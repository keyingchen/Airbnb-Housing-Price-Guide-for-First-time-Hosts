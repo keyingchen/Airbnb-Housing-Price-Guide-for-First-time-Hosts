{
 "cells": [
  {
   "cell_type": "markdown",
   "metadata": {},
   "source": [
    "## Import & Load Data"
   ]
  },
  {
   "cell_type": "code",
   "execution_count": null,
   "metadata": {
    "colab": {
     "base_uri": "https://localhost:8080/",
     "height": 124
    },
    "id": "s78s8IbwRCmt",
    "outputId": "8f953dab-f5a3-40f4-9c8b-68681d09cdb4"
   },
   "outputs": [
    {
     "name": "stdout",
     "output_type": "stream",
     "text": [
      "Go to this URL in a browser: https://accounts.google.com/o/oauth2/auth?client_id=947318989803-6bn6qk8qdgf4n4g3pfee6491hc0brc4i.apps.googleusercontent.com&redirect_uri=urn%3aietf%3awg%3aoauth%3a2.0%3aoob&response_type=code&scope=email%20https%3a%2f%2fwww.googleapis.com%2fauth%2fdocs.test%20https%3a%2f%2fwww.googleapis.com%2fauth%2fdrive%20https%3a%2f%2fwww.googleapis.com%2fauth%2fdrive.photos.readonly%20https%3a%2f%2fwww.googleapis.com%2fauth%2fpeopleapi.readonly\n",
      "\n",
      "Enter your authorization code:\n",
      "··········\n",
      "Mounted at /content/drive\n"
     ]
    }
   ],
   "source": [
    "import matplotlib\n",
    "import matplotlib.pyplot as plt\n",
    "import numpy as np\n",
    "import pandas as pd\n",
    "import seaborn as sns\n",
    "from sklearn.preprocessing import Imputer\n",
    "from sklearn.linear_model import LogisticRegression\n",
    "from sklearn.model_selection import train_test_split\n",
    "from google.colab import drive\n",
    "drive.mount('/content/drive')\n",
    "data_dir = '/content/drive/My Drive/MIE368_Project/Data'"
   ]
  },
  {
   "cell_type": "code",
   "execution_count": null,
   "metadata": {
    "id": "II1fM7ekffzn"
   },
   "outputs": [],
   "source": [
    "listings_raw = pd.read_csv(\"{}/O_listings.csv\".format(data_dir))\n",
    "houseprice_raw = pd.read_csv(\"{}/properties.csv\".format(data_dir))\n",
    "distance_to_downtown = pd.read_csv(\"{}/distance_to_dt.csv\".format(data_dir), header=None)\n",
    "num_airbnb_nearby = pd.read_csv(\"{}/num_airbnb_nearby.csv\".format(data_dir), header=None)\n",
    "tone = pd.read_csv(\"{}/final_tone.csv\".format(data_dir), header=None)\n",
    "avg = pd.read_csv(\"{}/aveprice.csv\".format(data_dir), header=None)\n",
    "listings_raw = listings_raw.drop(columns=['room_type','id','listing_url','scrape_id','last_scraped','summary','space','experiences_offered','neighborhood_overview','notes','access','interaction','thumbnail_url','medium_url','picture_url','xl_picture_url','host_id','host_url','host_name','host_since','host_response_rate','host_acceptance_rate','host_thumbnail_url','host_picture_url','host_neighbourhood','host_listings_count','host_has_profile_pic','host_identity_verified','street','neighbourhood','neighbourhood_group_cleansed','city','state','zipcode','market','smart_location','country_code','country','is_location_exact','accommodates','beds','bed_type','square_feet','minimum_nights','maximum_nights','minimum_minimum_nights','maximum_minimum_nights','minimum_maximum_nights','maximum_maximum_nights','calendar_updated','has_availability','availability_30','availability_60','availability_90','availability_365','calendar_last_scraped','number_of_reviews','number_of_reviews_ltm','first_review','last_review','review_scores_rating','review_scores_accuracy','review_scores_cleanliness','review_scores_checkin','review_scores_communication','review_scores_location','review_scores_value','requires_license','license','jurisdiction_names','is_business_travel_ready','calculated_host_listings_count','calculated_host_listings_count_entire_homes','calculated_host_listings_count_private_rooms','calculated_host_listings_count_shared_rooms','reviews_per_month','host_location','host_verifications','neighbourhood_cleansed'])\n",
    "X_aftercleaning = pd.read_csv(\"{}/X_aftercleaning.csv\".format(data_dir))\n",
    "X_afterfeatureeng = pd.read_csv(\"{}/X_afterfeatureeng.csv\".format(data_dir))\n",
    "\n",
    "\n",
    "\n",
    "df_dropPriceNa = listings_raw.loc[listings_raw['price']!= 'NaN']\n",
    "y_price = df_dropPriceNa.price\n",
    "for i in range(0,3268):\n",
    "  y_price[i] = y_price[i].replace('$','')\n",
    "  y_price[i] = y_price[i].replace(',','')\n",
    "y_price = y_price.astype(float)\n",
    "listings_raw.drop(columns='price')\n",
    "listings_raw['price'] = y_price\n",
    "listings_raw.price\n",
    "listings_raw = listings_raw.drop(listings_raw[listings_raw['price'] >= 557].index)\n",
    "listings_raw.reset_index(drop=True, inplace=True)\n",
    "X_afterfeatureeng.reset_index(drop=True, inplace=True)\n",
    "\n",
    "X_afterfeatureeng['price'] = listings_raw.price"
   ]
  },
  {
   "cell_type": "code",
   "execution_count": null,
   "metadata": {
    "colab": {
     "base_uri": "https://localhost:8080/",
     "height": 225
    },
    "id": "E4qHT5T-gZnD",
    "outputId": "0f26b110-f794-412a-966c-6c40eca2c6b6"
   },
   "outputs": [
    {
     "data": {
      "text/plain": [
       "Unnamed: 0                                    0\n",
       "price                                         0\n",
       "Agreeableness                                 0\n",
       "Analytical                                    0\n",
       "Anger                                         0\n",
       "                                             ..\n",
       "Extrapillowsandblankets_**_extra_people       0\n",
       "Shampoo_**_Hotwater                           0\n",
       "Freeparkingonpremises_**_House                0\n",
       "num_airbnb_nearby_**_Freeparkingonpremises    0\n",
       "num_airbnb_nearby_**_Airconditioning          0\n",
       "Length: 97, dtype: int64"
      ]
     },
     "execution_count": 5,
     "metadata": {
      "tags": []
     },
     "output_type": "execute_result"
    }
   ],
   "source": [
    "#Check\n",
    "X_afterfeatureeng.isna().sum()"
   ]
  },
  {
   "cell_type": "code",
   "execution_count": null,
   "metadata": {
    "id": "q5dFdAvdSvwc"
   },
   "outputs": [],
   "source": [
    "X_new = X_afterfeatureeng.copy()\n",
    "cols = ['price','Apartment', 'House', 'Nature', 'Property_type_others', 'Vacation','Wild', 'Longtermstaysallowed','Family/kidfriendly','Kitchen', 'Airconditioning', 'Wifi','bathrooms', 'bedrooms','instant_bookable','distance_to_downtown', 'num_airbnb_nearby', 'avgpropertyprice','bus', 'walk', 'bik','train', 'car', 'airport']\n",
    "X_new = X_new[cols]"
   ]
  },
  {
   "cell_type": "markdown",
   "metadata": {},
   "source": [
    "## Very First Baseline Model (before data transformation, feature engineering, hyper-parameter tuning, etc.) \n",
    "\n",
    "The train score is 0.39683171281593177 and the test score is 0.361588178372673\n"
   ]
  },
  {
   "cell_type": "code",
   "execution_count": null,
   "metadata": {
    "id": "cOrNyZniTxK1"
   },
   "outputs": [],
   "source": [
    "from sklearn.model_selection import train_test_split\n",
    "X_train, X_test, y_train, y_test = train_test_split(X_new.drop('price',1), X_new['price'], test_size=0.30, random_state=5)"
   ]
  },
  {
   "cell_type": "code",
   "execution_count": null,
   "metadata": {
    "colab": {
     "base_uri": "https://localhost:8080/",
     "height": 468
    },
    "id": "1xtvp_LGduTY",
    "outputId": "6159023c-46e1-424d-8625-c0a8628dd640"
   },
   "outputs": [
    {
     "name": "stdout",
     "output_type": "stream",
     "text": [
      "The train score is 0.39683171281593177 and the test score is 0.361588178372673\n",
      "Apartment              -25.446945\n",
      "House                  -51.830142\n",
      "Nature                  90.024408\n",
      "Property_type_others   -30.715843\n",
      "Vacation               -13.983446\n",
      "Wild                    31.951968\n",
      "Longtermstaysallowed    -6.063257\n",
      "Family/kidfriendly      11.197507\n",
      "Kitchen                 -6.783558\n",
      "Airconditioning         17.460783\n",
      "Wifi                   -30.838772\n",
      "bathrooms               16.075373\n",
      "bedrooms                34.827032\n",
      "instant_bookable        -5.607073\n",
      "distance_to_downtown     0.039316\n",
      "num_airbnb_nearby        0.001500\n",
      "avgpropertyprice         0.000007\n",
      "bus                     -8.207718\n",
      "walk                    -3.398252\n",
      "bik                      5.127979\n",
      "train                   -2.989880\n",
      "car                     -3.720037\n",
      "airport                 -1.447131\n",
      "Intercept               81.405871\n",
      "dtype: float64\n"
     ]
    }
   ],
   "source": [
    "from sklearn.linear_model import LinearRegression, LassoCV, RidgeCV\n",
    "\n",
    "linreg = LinearRegression()\n",
    "linreg.fit(X_train, y_train)\n",
    "\n",
    "train_score = linreg.score(X_train, y_train)\n",
    "test_score = linreg.score(X_test, y_test)\n",
    "\n",
    "print('The train score is {} and the test score is {}'.format(train_score, test_score))\n",
    "\n",
    "betas = pd.Series(linreg.coef_, index=X_train.columns)\n",
    "betas = betas.append(pd.Series({\"Intercept\": linreg.intercept_}))\n",
    "print(betas)\n"
   ]
  },
  {
   "cell_type": "code",
   "execution_count": null,
   "metadata": {
    "colab": {
     "base_uri": "https://localhost:8080/",
     "height": 121
    },
    "id": "j953mNGiMlbs",
    "outputId": "0b4a5261-b5d6-4e3c-b566-4f46c96a81a4"
   },
   "outputs": [
    {
     "data": {
      "text/plain": [
       "Index(['price', 'Apartment', 'House', 'Nature', 'Property_type_others',\n",
       "       'Vacation', 'Wild', 'Longtermstaysallowed', 'Family/kidfriendly',\n",
       "       'Kitchen', 'Airconditioning', 'Wifi', 'bathrooms', 'bedrooms',\n",
       "       'instant_bookable', 'distance_to_downtown', 'num_airbnb_nearby',\n",
       "       'avgpropertyprice', 'bus', 'walk', 'bik', 'train', 'car', 'airport'],\n",
       "      dtype='object')"
      ]
     },
     "execution_count": 10,
     "metadata": {
      "tags": []
     },
     "output_type": "execute_result"
    }
   ],
   "source": [
    "X_new.columns"
   ]
  },
  {
   "cell_type": "code",
   "execution_count": null,
   "metadata": {
    "colab": {
     "base_uri": "https://localhost:8080/",
     "height": 281
    },
    "id": "j1HirLrNNPVS",
    "outputId": "4f045f41-6312-4a50-e549-731604c96c10"
   },
   "outputs": [
    {
     "data": {
      "image/png": "[encoded data removed]",
      "text/plain": [
       "<Figure size 432x288 with 1 Axes>"
      ]
     },
     "metadata": {
      "tags": []
     },
     "output_type": "display_data"
    }
   ],
   "source": [
    "\n",
    "plt.hist([linreg.predict(X_train), y_train],bins=18,  label=['predicted', 'actual'])\n",
    "plt.legend(loc='upper right')\n",
    "plt.title(\"Linear Regression Prediction vs. Actual Price\")\n",
    "plt.show()"
   ]
  },
  {
   "cell_type": "code",
   "execution_count": null,
   "metadata": {
    "colab": {
     "base_uri": "https://localhost:8080/",
     "height": 425
    },
    "id": "y5tuhhdIrdd0",
    "outputId": "66a864af-49be-478a-940f-f8458caf69e1"
   },
   "outputs": [
    {
     "name": "stdout",
     "output_type": "stream",
     "text": [
      "The train score is 0.381796278347218 and the test score is 0.3515798963214136\n",
      "Apartment              -19.101503\n",
      "House                  -52.683145\n",
      "Nature                  84.436123\n",
      "Property_type_others   -30.520129\n",
      "Vacation               -11.914249\n",
      "Wild                    29.782902\n",
      "Longtermstaysallowed    -5.074496\n",
      "Family/kidfriendly      11.693906\n",
      "Kitchen                 -4.230528\n",
      "Airconditioning         16.307897\n",
      "Wifi                   -25.491171\n",
      "bathrooms               16.803801\n",
      "bedrooms                33.920171\n",
      "instant_bookable        -4.076615\n",
      "avgpropertyprice         0.000016\n",
      "bus                     -9.677453\n",
      "walk                    -0.749301\n",
      "bik                      5.959844\n",
      "train                   -4.948126\n",
      "car                     -5.740217\n",
      "airport                 -2.170075\n",
      "Intercept               77.465653\n",
      "dtype: float64\n"
     ]
    }
   ],
   "source": [
    "X_new = X_afterfeatureeng.copy()\n",
    "cols = ['price','Apartment', 'House', 'Nature', 'Property_type_others', 'Vacation','Wild', 'Longtermstaysallowed','Family/kidfriendly','Kitchen', 'Airconditioning', 'Wifi','bathrooms', 'bedrooms','instant_bookable','avgpropertyprice','bus', 'walk', 'bik','train', 'car', 'airport']\n",
    "X_new = X_new[cols]\n",
    "\n",
    "X_train, X_test, y_train, y_test = train_test_split(X_new.drop('price',1), X_new['price'], test_size=0.30, random_state=5)\n",
    "\n",
    "linreg = LinearRegression()\n",
    "linreg.fit(X_train, y_train)\n",
    "\n",
    "train_score = linreg.score(X_train, y_train)\n",
    "test_score = linreg.score(X_test, y_test)\n",
    "\n",
    "print('The train score is {} and the test score is {}'.format(train_score, test_score))\n",
    "\n",
    "betas = pd.Series(linreg.coef_, index=X_train.columns)\n",
    "betas = betas.append(pd.Series({\"Intercept\": linreg.intercept_}))\n",
    "print(betas)\n"
   ]
  },
  {
   "cell_type": "markdown",
   "metadata": {
    "id": "xatQCpw_hTve"
   },
   "source": [
    "## Some Improvements: \n",
    "Data Transportation, normalization, etc\n",
    "__sqrt root y__:"
   ]
  },
  {
   "cell_type": "code",
   "execution_count": null,
   "metadata": {
    "id": "8wNvJBkthF40"
   },
   "outputs": [],
   "source": [
    "y_price_new = X_afterfeatureeng['price'].copy()\n",
    "y_price_new = np.sqrt(y_price_new)\n",
    "X_new1 = X_afterfeatureeng.copy()\n",
    "X_new1.price = y_price_new\n",
    "cols = ['price','Apartment', 'House', 'Nature', 'Property_type_others', 'Vacation','Wild', 'Longtermstaysallowed','Family/kidfriendly','Kitchen', 'Airconditioning', 'Wifi','bathrooms', 'bedrooms','instant_bookable','distance_to_downtown', 'num_airbnb_nearby', 'avgpropertyprice','bus', 'walk', 'bik','train', 'car', 'airport']\n",
    "X_new1 = X_new1[cols]"
   ]
  },
  {
   "cell_type": "code",
   "execution_count": null,
   "metadata": {
    "id": "XGY2cqKwhtRW"
   },
   "outputs": [],
   "source": [
    "from sklearn.model_selection import train_test_split\n",
    "X_train, X_test, y_train, y_test = train_test_split(X_new1.drop('price',1), X_new1['price'], test_size=0.30, random_state=5)"
   ]
  },
  {
   "cell_type": "code",
   "execution_count": null,
   "metadata": {
    "id": "zvehxx10h0fN"
   },
   "outputs": [],
   "source": [
    "from sklearn.linear_model import LinearRegression, LassoCV, RidgeCV\n",
    "\n",
    "linreg = LinearRegression()\n",
    "linreg.fit(X_train, y_train)\n",
    "\n",
    "train_score = linreg.score(X_train, y_train)\n",
    "test_score = linreg.score(X_test, y_test)\n",
    "\n",
    "print('The train score is {} and the test score is {}'.format(train_score, test_score))\n",
    "\n",
    "betas = pd.Series(linreg.coef_, index=X_train.columns)\n",
    "betas = betas.append(pd.Series({\"Intercept\": linreg.intercept_}))\n",
    "print(betas)"
   ]
  },
  {
   "cell_type": "code",
   "execution_count": null,
   "metadata": {
    "id": "BaH1lTdmjuou"
   },
   "outputs": [],
   "source": [
    "non_binary_columns = ['bathrooms', 'bedrooms','distance_to_downtown', 'num_airbnb_nearby', 'avgpropertyprice']\n",
    "\n",
    "from sklearn.model_selection import train_test_split\n",
    "X_train, X_test, y_train, y_test = train_test_split(X_new1.drop('price',1), X_new1['price'], test_size=0.30, random_state=5)\n",
    "from sklearn.linear_model import LinearRegression, LassoCV, RidgeCV\n",
    "X_train_scaled, X_test_scaled, scaler = normalize(X_train, X_test, non_binary_columns)\n",
    "\n",
    "linreg = LinearRegression()\n",
    "linreg.fit(X_train_scaled, y_train)\n",
    "\n",
    "train_score = linreg.score(X_train_scaled, y_train)\n",
    "test_score = linreg.score(X_test_scaled, y_test)\n",
    "\n",
    "print('The train score is {} and the test score is {}'.format(train_score, test_score))\n",
    "\n",
    "betas = pd.Series(linreg.coef_, index=X_train_scaled.columns)\n",
    "betas = betas.append(pd.Series({\"Intercept\": linreg.intercept_}))\n",
    "print(betas)"
   ]
  },
  {
   "cell_type": "code",
   "execution_count": null,
   "metadata": {
    "colab": {
     "base_uri": "https://localhost:8080/",
     "height": 231
    },
    "id": "_xeIgVDrm34y",
    "outputId": "84010aac-303e-4706-845b-7f61e292074f"
   },
   "outputs": [],
   "source": [
    "from scipy import stats\n",
    "params = np.append(linreg.intercept_,linreg.coef_)\n",
    "predictions = linreg.predict(X_test)\n",
    "\n",
    "newX = pd.DataFrame({\"Constant\":np.ones(len(X_test))}).join(pd.DataFrame(X_test))\n",
    "MSE = (sum((y_test-predictions)**2))/(len(newX)-len(newX.columns))\n",
    "\n",
    "# Note if you don't want to use a DataFrame replace the two lines above with\n",
    "# newX = np.append(np.ones((len(X),1)), X, axis=1)\n",
    "# MSE = (sum((y-predictions)**2))/(len(newX)-len(newX[0]))\n",
    "\n",
    "var_b = MSE*(np.linalg.inv(np.dot(newX.T,newX)).diagonal())\n",
    "sd_b = np.sqrt(var_b)\n",
    "ts_b = params/ sd_b\n",
    "\n",
    "p_values =[2*(1-stats.t.cdf(np.abs(i),(len(newX)-1))) for i in ts_b]\n",
    "\n",
    "sd_b = np.round(sd_b,3)\n",
    "ts_b = np.round(ts_b,3)\n",
    "p_values = np.round(p_values,3)\n",
    "params = np.round(params,4)\n",
    "\n",
    "myDF3 = pd.DataFrame()\n",
    "myDF3[\"Coefficients\"],myDF3[\"Standard Errors\"],myDF3[\"t values\"],myDF3[\"Probabilites\"] = [params,sd_b,ts_b,p_values]\n",
    "print(myDF3)"
   ]
  },
  {
   "cell_type": "code",
   "execution_count": null,
   "metadata": {
    "colab": {
     "base_uri": "https://localhost:8080/",
     "height": 173
    },
    "id": "Z5ZhV_BCoeQ2",
    "outputId": "106418d0-1d46-4656-f203-a2e3338d0295"
   },
   "outputs": [],
   "source": [
    "import statsmodels.api as sm\n",
    "mod = sm.OLS(y_train,X_train)\n",
    "fii = mod.fit()\n",
    "p_values = fii.summary2().tables[1]['P>|t|']\n",
    "d = p_values.to_dict()\n",
    "print(d)\n",
    "\n",
    "'''i = 0\n",
    "for i,p in enumerate(p_values):\n",
    "  if p >= 0.05:\n",
    "    print(i,p)'''\n",
    "\n"
   ]
  },
  {
   "cell_type": "code",
   "execution_count": null,
   "metadata": {
    "colab": {
     "base_uri": "https://localhost:8080/",
     "height": 408
    },
    "id": "gZ8eHpIXikIy",
    "outputId": "48b0e078-3996-4e4a-b990-92d9890c4b17"
   },
   "outputs": [],
   "source": [
    "y_price_new = X_afterfeatureeng['price'].copy()\n",
    "y_price_new = np.log(y_price_new)\n",
    "X_new2 = X_afterfeatureeng.copy()\n",
    "X_new2.price = y_price_new\n",
    "cols = ['price','Apartment', 'House', 'Nature', 'Property_type_others', 'Vacation','Wild', 'Longtermstaysallowed','Family/kidfriendly','Kitchen', 'Airconditioning', 'Wifi','bathrooms', 'bedrooms','instant_bookable','distance_to_downtown', 'num_airbnb_nearby', 'avgpropertyprice','bus', 'walk', 'bik','train', 'car', 'airport']\n",
    "X_new2 = X_new2[cols]\n",
    "X_new2 = X_new2.drop(X_new2[X_new2['price'] <= 1].index)\n",
    "from sklearn.model_selection import train_test_split\n",
    "X_train, X_test, y_train, y_test = train_test_split(X_new2.drop('price',1), X_new2['price'], test_size=0.30, random_state=5)\n",
    "from sklearn.linear_model import LinearRegression, LassoCV, RidgeCV\n",
    "\n",
    "linreg = LinearRegression()\n",
    "linreg.fit(X_train, y_train)\n",
    "\n",
    "train_score = linreg.score(X_train, y_train)\n",
    "test_score = linreg.score(X_test, y_test)\n",
    "\n",
    "print('The train score is {} and the test score is {}'.format(train_score, test_score))\n",
    "\n",
    "betas = pd.Series(linreg.coef_, index=X_train.columns)\n",
    "betas = betas.append(pd.Series({\"Intercept\": linreg.intercept_}))\n",
    "print(betas)"
   ]
  },
  {
   "cell_type": "markdown",
   "metadata": {
    "id": "lw0Y9fE8k3cJ"
   },
   "source": [
    "__normalize__:\n"
   ]
  },
  {
   "cell_type": "code",
   "execution_count": null,
   "metadata": {
    "id": "54-Emt4Tjh8j"
   },
   "outputs": [],
   "source": [
    "from sklearn.preprocessing import StandardScaler\n",
    "def normalize(X_train, X_val, non_binary_columns):\n",
    "   # Define scaling function\n",
    "    scaler = StandardScaler()\n",
    "  \n",
    "    # Scale the X features      \n",
    "    X_train[non_binary_columns] = scaler.fit_transform(X_train[non_binary_columns])\n",
    "    X_val[non_binary_columns] = scaler.transform(X_val[non_binary_columns])\n",
    "                        \n",
    "    return X_train, X_val, scaler"
   ]
  },
  {
   "cell_type": "code",
   "execution_count": null,
   "metadata": {
    "id": "efdDhtS4lNHg"
   },
   "outputs": [],
   "source": [
    "X_new2.columns"
   ]
  },
  {
   "cell_type": "code",
   "execution_count": null,
   "metadata": {
    "id": "4Z8087n5lFMP"
   },
   "outputs": [],
   "source": [
    "non_binary_columns = ['bathrooms', 'bedrooms','distance_to_downtown', 'num_airbnb_nearby', 'avgpropertyprice']\n",
    "\n",
    "from sklearn.model_selection import train_test_split\n",
    "X_train, X_test, y_train, y_test = train_test_split(X_new2.drop('price',1), X_new2['price'], test_size=0.30, random_state=5)\n",
    "from sklearn.linear_model import LinearRegression, LassoCV, RidgeCV\n",
    "X_train_scaled, X_test_scaled, scaler = normalize(X_train, X_test, non_binary_columns)\n",
    "\n",
    "linreg = LinearRegression()\n",
    "linreg.fit(X_train_scaled, y_train)\n",
    "\n",
    "train_score = linreg.score(X_train_scaled, y_train)\n",
    "test_score = linreg.score(X_test_scaled, y_test)\n",
    "\n",
    "print('The train score is {} and the test score is {}'.format(train_score, test_score))\n",
    "\n",
    "betas = pd.Series(linreg.coef_, index=X_train_scaled.columns)\n",
    "betas = betas.append(pd.Series({\"Intercept\": linreg.intercept_}))\n",
    "print(betas)"
   ]
  },
  {
   "cell_type": "code",
   "execution_count": null,
   "metadata": {
    "id": "ULjK9RYrvSRR"
   },
   "outputs": [],
   "source": [
    "X_afterfeatureeng.columns"
   ]
  },
  {
   "cell_type": "markdown",
   "metadata": {
    "id": "ZD45kibmwYUU"
   },
   "source": [
    "Basic model + tone + sqrt of y + Drop unnecessary columns in the basic model (kitchen, walk,bik,train,car,airport)"
   ]
  },
  {
   "cell_type": "code",
   "execution_count": null,
   "metadata": {
    "colab": {
     "base_uri": "https://localhost:8080/",
     "height": 231
    },
    "id": "Ee5aJz700C30",
    "outputId": "39db9655-b0d2-438f-beff-73e6c5d77453"
   },
   "outputs": [],
   "source": [
    "X_new4 = X_afterfeatureeng.copy()\n",
    "cols = ['no_alcohol','length_name', 'length_host','minimum_nights_avg_ntm','guests_included','extra_people','host_total_listings_count','Freeparkingonpremises','Heating', 'Hotwater', 'Shampoo','Coffeemaker', 'Microwave','super_strict_30', 'strict_14_with_grace_period',\n",
    "       'moderate', 'flexible',  'num_airbnb_nearby', 'avgpropertyprice','response_none', 'withinanhour', 'withinafewhours', 'withinaday',\n",
    "       'afewdaysormore','Agreeableness', 'Analytical', 'Anger',\n",
    "       'Confident', 'Conscientiousness', 'Disgust', 'Emotional Range',\n",
    "       'Extraversion', 'Joy', 'Openness', 'Sadness', 'Tentative','price','Apartment', 'House', 'Nature', 'Property_type_others', 'Vacation','Wild', 'Longtermstaysallowed','Family/kidfriendly', 'Airconditioning', 'Wifi','bathrooms', 'bedrooms','instant_bookable','distance_to_downtown','bus']\n",
    "X_new4 = X_new4[cols]\n",
    "y_price_new = X_afterfeatureeng['price'].copy()\n",
    "y_price_new = np.sqrt(y_price_new)\n",
    "X_new4.price = y_price_new\n",
    "\n",
    "\n",
    "non_binary_columns = ['length_name', 'length_host', 'minimum_nights_avg_ntm',\n",
    "       'guests_included', 'extra_people', 'host_total_listings_count',\n",
    "       'num_airbnb_nearby', 'avgpropertyprice', \n",
    "       'bathrooms', 'bedrooms','distance_to_downtown']\n",
    "\n",
    "from sklearn.model_selection import train_test_split\n",
    "X_train, X_test, y_train, y_test = train_test_split(X_new4.drop('price',1), X_new4['price'], test_size=0.30, random_state=5)\n",
    "from sklearn.linear_model import LinearRegression, LassoCV, RidgeCV\n",
    "X_train_scaled, X_test_scaled, scaler = normalize(X_train, X_test, non_binary_columns)\n",
    "\n",
    "linreg = LinearRegression()\n",
    "linreg.fit(X_train_scaled, y_train)\n",
    "\n",
    "train_score = linreg.score(X_train_scaled, y_train)\n",
    "test_score = linreg.score(X_test_scaled, y_test)\n",
    "\n",
    "print('The train score is {} and the test score is {}'.format(train_score, test_score))\n",
    "\n",
    "betas = pd.Series(linreg.coef_, index=X_train_scaled.columns)\n",
    "betas = betas.append(pd.Series({\"Intercept\": linreg.intercept_}))\n",
    "print(betas)"
   ]
  },
  {
   "cell_type": "code",
   "execution_count": null,
   "metadata": {
    "colab": {
     "base_uri": "https://localhost:8080/",
     "height": 374
    },
    "id": "6Ls1jLXNl1iC",
    "outputId": "86341229-f45b-4b01-e64d-dd3cdafc44ca"
   },
   "outputs": [],
   "source": [
    "X_new3 = X_afterfeatureeng.copy()\n",
    "cols = ['no_alcohol','length_name', 'length_host','minimum_nights_avg_ntm','guests_included','extra_people','host_total_listings_count','Freeparkingonpremises','Heating', 'Hotwater', 'Shampoo','Coffeemaker', 'Microwave','super_strict_30', 'strict_14_with_grace_period',\n",
    "       'moderate', 'flexible',  'num_airbnb_nearby', 'avgpropertyprice','response_none', 'withinanhour', 'withinafewhours', 'withinaday',\n",
    "       'afewdaysormore','Agreeableness', 'Analytical', 'Anger',\n",
    "       'Confident', 'Conscientiousness', 'Disgust', 'Emotional Range',\n",
    "       'Extraversion', 'Joy', 'Openness', 'Sadness', 'Tentative','price','Apartment', 'House', 'Nature', 'Property_type_others', 'Vacation','Wild', 'Longtermstaysallowed','Family/kidfriendly', 'Airconditioning', 'Wifi','bathrooms', 'bedrooms','instant_bookable','distance_to_downtown','bus']\n",
    "X_new3 = X_new3[cols]\n",
    "y_price_new = X_afterfeatureeng['price'].copy()\n",
    "y_price_new = np.sqrt(y_price_new)\n",
    "X_new3.price = y_price_new\n",
    "\n",
    "from sklearn.model_selection import train_test_split\n",
    "X_train, X_test, y_train, y_test = train_test_split(X_new3.drop('price',1), X_new3['price'], test_size=0.30, random_state=5)\n",
    "from sklearn.linear_model import LinearRegression, LassoCV, RidgeCV\n",
    "\n",
    "linreg = LinearRegression()\n",
    "linreg.fit(X_train, y_train)\n",
    "\n",
    "train_score = linreg.score(X_train, y_train)\n",
    "test_score = linreg.score(X_test, y_test)\n",
    "\n",
    "print('The train score is {} and the test score is {}'.format(train_score, test_score))\n",
    "\n",
    "betas = pd.Series(linreg.coef_, index=X_train.columns)\n",
    "betas = betas.append(pd.Series({\"Intercept\": linreg.intercept_}))\n",
    "print(betas)"
   ]
  },
  {
   "cell_type": "code",
   "execution_count": null,
   "metadata": {
    "id": "uq5Ly7Mf4IPh"
   },
   "outputs": [],
   "source": [
    "def monotone_transform(X):\n",
    "    X_new = X.copy()\n",
    "    X_new['SQRTextra_people'] = np.sqrt(X_new['extra_people'])\n",
    "    X_new['SQRTdistance_to_downtown'] = np.sqrt(X_new['distance_to_downtown'])\n",
    "    \n",
    "    return X_new"
   ]
  },
  {
   "cell_type": "code",
   "execution_count": null,
   "metadata": {
    "colab": {
     "base_uri": "https://localhost:8080/",
     "height": 374
    },
    "id": "WW8RaHNi4T1x",
    "outputId": "8d1799ca-c9ac-4095-d565-1f5d284f3d56"
   },
   "outputs": [],
   "source": [
    "X_new4 = X_afterfeatureeng.copy()\n",
    "cols = ['no_alcohol','length_name', 'length_host','minimum_nights_avg_ntm','guests_included','extra_people','host_total_listings_count','Freeparkingonpremises','Heating', 'Hotwater', 'Shampoo','Coffeemaker', 'Microwave','super_strict_30', 'strict_14_with_grace_period',\n",
    "       'moderate', 'flexible',  'num_airbnb_nearby', 'avgpropertyprice','response_none', 'withinanhour', 'withinafewhours', 'withinaday',\n",
    "       'afewdaysormore','Agreeableness', 'Analytical', 'Anger',\n",
    "       'Confident', 'Conscientiousness', 'Disgust', 'Emotional Range',\n",
    "       'Extraversion', 'Joy', 'Openness', 'Sadness', 'Tentative','price','Apartment', 'House', 'Nature', 'Property_type_others', 'Vacation','Wild', 'Longtermstaysallowed','Family/kidfriendly', 'Airconditioning', 'Wifi','bathrooms', 'bedrooms','instant_bookable','distance_to_downtown','bus']\n",
    "X_new4 = X_new4[cols]\n",
    "y_price_new = X_afterfeatureeng['price'].copy()\n",
    "y_price_new = np.sqrt(y_price_new)\n",
    "X_new4.price = y_price_new\n",
    "X_new4 = monotone_transform(X_new4)\n",
    "X_new4 = X_new4.drop(columns = \"extra_people\")\n",
    "\n",
    "from sklearn.model_selection import train_test_split\n",
    "X_train, X_test, y_train, y_test = train_test_split(X_new4.drop('price',1), X_new4['price'], test_size=0.30, random_state=5)\n",
    "from sklearn.linear_model import LinearRegression, LassoCV, RidgeCV\n",
    "\n",
    "linreg = LinearRegression()\n",
    "linreg.fit(X_train, y_train)\n",
    "\n",
    "train_score = linreg.score(X_train, y_train)\n",
    "test_score = linreg.score(X_test, y_test)\n",
    "\n",
    "print('The train score is {} and the test score is {}'.format(train_score, test_score))\n",
    "\n",
    "betas = pd.Series(linreg.coef_, index=X_train.columns)\n",
    "betas = betas.append(pd.Series({\"Intercept\": linreg.intercept_}))\n",
    "print(betas)"
   ]
  },
  {
   "cell_type": "code",
   "execution_count": null,
   "metadata": {
    "colab": {
     "base_uri": "https://localhost:8080/",
     "height": 119
    },
    "id": "wBioTGRq5A7A",
    "outputId": "7d80c74a-f38e-442b-c799-81561ae20bea"
   },
   "outputs": [
    {
     "name": "stderr",
     "output_type": "stream",
     "text": [
      "/usr/local/lib/python3.6/dist-packages/scipy/stats/_distn_infrastructure.py:901: RuntimeWarning: invalid value encountered in greater\n",
      "  return (a < x) & (x < b)\n",
      "/usr/local/lib/python3.6/dist-packages/scipy/stats/_distn_infrastructure.py:901: RuntimeWarning: invalid value encountered in less\n",
      "  return (a < x) & (x < b)\n",
      "/usr/local/lib/python3.6/dist-packages/scipy/stats/_distn_infrastructure.py:1892: RuntimeWarning: invalid value encountered in less_equal\n",
      "  cond2 = cond0 & (x <= _a)\n"
     ]
    }
   ],
   "source": [
    "import statsmodels.api as sm\n",
    "mod = sm.OLS(y_train,X_train)\n",
    "fii = mod.fit()\n",
    "p_values = fii.summary2().tables[1]['P>|t|']\n",
    "d = p_values.to_dict()\n",
    "for i in d.keys():\n",
    "  if d[i]<=0.05:\n",
    "    print(i)"
   ]
  },
  {
   "cell_type": "code",
   "execution_count": null,
   "metadata": {
    "colab": {
     "base_uri": "https://localhost:8080/",
     "height": 231
    },
    "id": "rxSGvaPo3j9Z",
    "outputId": "44a7effa-88f8-4229-994f-45d461116dbc"
   },
   "outputs": [],
   "source": [
    "base_corrs = X_new5.corr().price.drop(index='price')\n",
    "\n",
    "for feature1 in base_corrs.index:\n",
    "    for feature2 in base_corrs.index:\n",
    "        if feature2 != feature1:\n",
    "            # divide the two features to create a new feature\n",
    "            new_feature = X_train[feature1] - X_train[feature2]\n",
    "            new_corr = np.abs(np.round(np.corrcoef(new_feature, y_train)[0,1], 3))\n",
    "            corr1 = np.abs(np.round(base_corrs[feature1], 3))\n",
    "            corr2 = np.abs(np.round(base_corrs[feature2], 3))\n",
    "            # add a threshold of 0.05 to make sure that the improvement is meaningful\n",
    "            if new_corr > max(corr1, corr2)+0.05:\n",
    "                print('{} {} combine to get correlation {} compared to {} {}'.format(\n",
    "                    feature1, feature2, np.round(np.corrcoef(new_feature, y_train)[0,1], 3), corr1, corr2))"
   ]
  },
  {
   "cell_type": "code",
   "execution_count": null,
   "metadata": {
    "id": "mrVrD5Cj71fT"
   },
   "outputs": [],
   "source": [
    "def new_feature_combos(X):\n",
    "   \n",
    "    # First, we apply the monotone transform function\n",
    "    X_new = monotone_transform(X)\n",
    "    X_new = X_new.drop(columns = \"extra_people\")\n",
    "    # Then we add new features\n",
    "    X_new['Freeparkingonpremises_*_distance_to_downtown'] = X_new.Freeparkingonpremises*X_new.distance_to_downtown #has positive correlation with price\n",
    "    X_new = X_new.drop(columns = [\"Freeparkingonpremises\",'distance_to_downtown'] )\n",
    "    return X_new\n"
   ]
  },
  {
   "cell_type": "code",
   "execution_count": null,
   "metadata": {
    "colab": {
     "base_uri": "https://localhost:8080/",
     "height": 374
    },
    "id": "ZIZ4528B8USp",
    "outputId": "9c8ba886-27b3-4ff3-db4a-d1c800929fd8"
   },
   "outputs": [],
   "source": [
    "X_new5 = X_afterfeatureeng.copy()\n",
    "cols = ['no_alcohol','length_name', 'length_host','minimum_nights_avg_ntm','guests_included','extra_people','host_total_listings_count','Freeparkingonpremises','Heating', 'Hotwater', 'Shampoo','Coffeemaker', 'Microwave','super_strict_30', 'strict_14_with_grace_period',\n",
    "       'moderate', 'flexible',  'num_airbnb_nearby', 'avgpropertyprice','response_none', 'withinanhour', 'withinafewhours', 'withinaday',\n",
    "       'afewdaysormore','Agreeableness', 'Analytical', 'Anger',\n",
    "       'Confident', 'Conscientiousness', 'Disgust', 'Emotional Range',\n",
    "       'Extraversion', 'Joy', 'Openness', 'Sadness', 'Tentative','price','Apartment', 'House', 'Nature', 'Property_type_others', 'Vacation','Wild', 'Longtermstaysallowed','Family/kidfriendly', 'Airconditioning', 'Wifi','bathrooms', 'bedrooms','instant_bookable','distance_to_downtown','bus']\n",
    "X_new5 = X_new5[cols]\n",
    "y_price_new = X_afterfeatureeng['price'].copy()\n",
    "y_price_new = np.sqrt(y_price_new)\n",
    "X_new5.price = y_price_new\n",
    "X_new5 = new_feature_combos(X_new5)\n",
    "\n",
    "\n",
    "from sklearn.model_selection import train_test_split\n",
    "X_train, X_test, y_train, y_test = train_test_split(X_new5.drop('price',1), X_new5['price'], test_size=0.30, random_state=5)\n",
    "from sklearn.linear_model import LinearRegression, LassoCV, RidgeCV\n",
    "\n",
    "linreg = LinearRegression()\n",
    "linreg.fit(X_train, y_train)\n",
    "\n",
    "train_score = linreg.score(X_train, y_train)\n",
    "test_score = linreg.score(X_test, y_test)\n",
    "\n",
    "print('The train score is {} and the test score is {}'.format(train_score, test_score))\n",
    "\n",
    "betas = pd.Series(linreg.coef_, index=X_train.columns)\n",
    "betas = betas.append(pd.Series({\"Intercept\": linreg.intercept_}))\n",
    "print(betas)"
   ]
  },
  {
   "cell_type": "code",
   "execution_count": null,
   "metadata": {
    "id": "uYdeS9GA98Y3"
   },
   "outputs": [],
   "source": [
    "def new_feature_combos1(X):\n",
    "   \n",
    "    # First, we apply the monotone transform function\n",
    "    X_new = monotone_transform(X)\n",
    "    \n",
    "    \n",
    "    # Then we add new features\n",
    "    X_new['Freeparkingonpremises_*_distance_to_downtown'] = X_new.Freeparkingonpremises*X_new.distance_to_downtown #has positive correlation with price\n",
    "    X_new['Apartment+bathrooms'] =  X_new.Apartment + X_new.bathrooms\n",
    "    X_new['Apartment+bedrooms'] =  X_new.Apartment + X_new.bedrooms\n",
    "\n",
    "    X_new = X_new.drop(columns = 'extra_people')\n",
    "\n",
    "    # X_new = X_new.drop(columns = [\"Freeparkingonpremises\",'distance_to_downtown'] )\n",
    "\n",
    "    return X_new\n"
   ]
  },
  {
   "cell_type": "code",
   "execution_count": null,
   "metadata": {
    "colab": {
     "base_uri": "https://localhost:8080/",
     "height": 374
    },
    "id": "KCy1bjBV9pwX",
    "outputId": "f37a3264-7b53-4ef0-ce51-b6d4fb48181d"
   },
   "outputs": [],
   "source": [
    "X_new6 = X_afterfeatureeng.copy()\n",
    "cols = ['no_alcohol','length_name', 'length_host','minimum_nights_avg_ntm','guests_included','extra_people','host_total_listings_count','Freeparkingonpremises','Heating', 'Hotwater', 'Shampoo','Coffeemaker', 'Microwave','super_strict_30', 'strict_14_with_grace_period',\n",
    "       'moderate', 'flexible',  'num_airbnb_nearby', 'avgpropertyprice','response_none', 'withinanhour', 'withinafewhours', 'withinaday',\n",
    "       'afewdaysormore','Agreeableness', 'Analytical', 'Anger',\n",
    "       'Confident', 'Conscientiousness', 'Disgust', 'Emotional Range',\n",
    "       'Extraversion', 'Joy', 'Openness', 'Sadness', 'Tentative','price','Apartment', 'House', 'Nature', 'Property_type_others', 'Vacation','Wild', 'Longtermstaysallowed','Family/kidfriendly', 'Airconditioning', 'Wifi','bathrooms', 'bedrooms','instant_bookable','distance_to_downtown','bus']\n",
    "X_new6 = X_new6[cols]\n",
    "y_price_new = X_afterfeatureeng['price'].copy()\n",
    "y_price_new = np.sqrt(y_price_new)\n",
    "X_new6.price = y_price_new\n",
    "X_new6 = new_feature_combos1(X_new6)\n",
    "\n",
    "\n",
    "from sklearn.model_selection import train_test_split\n",
    "X_train, X_test, y_train, y_test = train_test_split(X_new6.drop('price',1), X_new6['price'], test_size=0.30, random_state=5)\n",
    "from sklearn.linear_model import LinearRegression, LassoCV, RidgeCV\n",
    "\n",
    "linreg = LinearRegression()\n",
    "linreg.fit(X_train, y_train)\n",
    "\n",
    "train_score = linreg.score(X_train, y_train)\n",
    "test_score = linreg.score(X_test, y_test)\n",
    "\n",
    "print('The train score is {} and the test score is {}'.format(train_score, test_score))\n",
    "\n",
    "betas = pd.Series(linreg.coef_, index=X_train.columns)\n",
    "betas = betas.append(pd.Series({\"Intercept\": linreg.intercept_}))\n",
    "print(betas)"
   ]
  },
  {
   "cell_type": "code",
   "execution_count": null,
   "metadata": {
    "colab": {
     "base_uri": "https://localhost:8080/",
     "height": 496
    },
    "id": "hw_imG7iBqn_",
    "outputId": "04a32e48-4d6e-4d15-af93-e54f30c56caf"
   },
   "outputs": [
    {
     "name": "stderr",
     "output_type": "stream",
     "text": [
      "/usr/local/lib/python3.6/dist-packages/numpy/lib/function_base.py:2534: RuntimeWarning: invalid value encountered in true_divide\n",
      "  c /= stddev[:, None]\n",
      "/usr/local/lib/python3.6/dist-packages/numpy/lib/function_base.py:2535: RuntimeWarning: invalid value encountered in true_divide\n",
      "  c /= stddev[None, :]\n",
      "/usr/local/lib/python3.6/dist-packages/numpy/lib/function_base.py:2449: RuntimeWarning: invalid value encountered in subtract\n",
      "  X -= avg[:, None]\n"
     ]
    },
    {
     "name": "stdout",
     "output_type": "stream",
     "text": [
      "Coffeemaker Hotwater combine to get correlation 0.164 compared to 0.097 0.056\n",
      "Coffeemaker SQRTextra_people combine to get correlation 0.162 compared to 0.097 0.044\n",
      "Microwave SQRTextra_people combine to get correlation 0.104 compared to 0.019 0.044\n",
      "afewdaysormore SQRTextra_people combine to get correlation 0.096 compared to 0.037 0.044\n",
      "Analytical SQRTextra_people combine to get correlation 0.103 compared to 0.004 0.044\n",
      "Anger SQRTextra_people combine to get correlation 0.1 compared to 0.019 0.044\n",
      "Conscientiousness SQRTextra_people combine to get correlation 0.101 compared to 0.012 0.044\n",
      "Disgust SQRTextra_people combine to get correlation 0.1 compared to 0.002 0.044\n",
      "Joy SQRTextra_people combine to get correlation 0.109 compared to 0.017 0.044\n",
      "Openness SQRTextra_people combine to get correlation 0.097 compared to 0.021 0.044\n",
      "Sadness SQRTextra_people combine to get correlation 0.1 compared to 0.023 0.044\n",
      "Tentative SQRTextra_people combine to get correlation 0.095 compared to 0.011 0.044\n",
      "Nature SQRTextra_people combine to get correlation 0.1 compared to 0.019 0.044\n",
      "Property_type_others SQRTextra_people combine to get correlation 0.099 compared to 0.005 0.044\n",
      "Wild SQRTextra_people combine to get correlation 0.102 compared to 0.031 0.044\n",
      "Longtermstaysallowed Hotwater combine to get correlation 0.109 compared to 0.036 0.056\n",
      "Longtermstaysallowed SQRTextra_people combine to get correlation 0.102 compared to 0.036 0.044\n",
      "Family/kidfriendly House combine to get correlation 0.227 compared to 0.171 0.141\n",
      "bathrooms Shampoo combine to get correlation 0.36 compared to 0.306 0.157\n",
      "SQRTdistance_to_downtown Shampoo combine to get correlation 0.229 compared to 0.134 0.157\n",
      "SQRTdistance_to_downtown Airconditioning combine to get correlation 0.207 compared to 0.134 0.115\n"
     ]
    }
   ],
   "source": [
    "base_corrs = X_new5.corr().price.drop(index='price')\n",
    "for feature1 in base_corrs.index:\n",
    "    for feature2 in base_corrs.index:\n",
    "        if feature2 != feature1:\n",
    "            # two features to the power to create a new feature\n",
    "            new_feature = X_train[feature1] ** X_train[feature2]\n",
    "            new_corr = np.abs(np.round(np.corrcoef(new_feature, y_train)[0,1], 3))\n",
    "            corr1 = np.abs(np.round(base_corrs[feature1], 3))\n",
    "            corr2 = np.abs(np.round(base_corrs[feature2], 3))\n",
    "            # add a threshold of 0.05 to make sure that the improvement is meaningful\n",
    "            if new_corr > max(corr1, corr2)+0.05:\n",
    "                print('{} {} combine to get correlation {} compared to {} {}'.format(\n",
    "                    feature1, feature2, np.round(np.corrcoef(new_feature, y_train)[0,1], 3), corr1, corr2))"
   ]
  },
  {
   "cell_type": "code",
   "execution_count": null,
   "metadata": {
    "id": "x1Ya3slf98Af"
   },
   "outputs": [],
   "source": [
    "def new_feature_combos1(X):\n",
    "   \n",
    "  # First, we apply the monotone transform function\n",
    "  X_new = monotone_transform(X)\n",
    "    \n",
    "    \n",
    "  # Then we add new features\n",
    "  X_new['Freeparkingonpremises_*_distance_to_downtown'] = X_new.Freeparkingonpremises*X_new.distance_to_downtown #has positive correlation with price\n",
    "  X_new['Apartment+bathrooms'] =  X_new.Apartment + X_new.bathrooms\n",
    "  X_new['Apartment+bedrooms'] =  X_new.Apartment + X_new.bedrooms\n",
    "  X_new['bathrooms**Shampoo'] = X_new.bathrooms ** X_new.Shampoo\n",
    "\n",
    "  X_new = X_new.drop(columns = 'extra_people')\n",
    "\n",
    "    # X_new = X_new.drop(columns = [\"Freeparkingonpremises\",'distance_to_downtown'] )\n",
    "\n",
    "  return X_new"
   ]
  },
  {
   "cell_type": "code",
   "execution_count": null,
   "metadata": {
    "colab": {
     "base_uri": "https://localhost:8080/",
     "height": 1000
    },
    "id": "s9n-yB7BDFfN",
    "outputId": "6f06d387-60d7-49cf-cb59-4c85f4166c58"
   },
   "outputs": [
    {
     "name": "stdout",
     "output_type": "stream",
     "text": [
      "The train score is 0.5037681100076767 and the test score is 0.4592038794677354\n",
      "no_alcohol                                     -1.633637e+00\n",
      "length_name                                    -6.050393e-02\n",
      "length_host                                    -3.497904e-03\n",
      "minimum_nights_avg_ntm                         -6.818441e-03\n",
      "guests_included                                 2.029261e-01\n",
      "host_total_listings_count                       6.027972e-03\n",
      "Freeparkingonpremises                           2.569960e-01\n",
      "Heating                                        -6.609343e-01\n",
      "Hotwater                                       -4.478586e-01\n",
      "Shampoo                                         4.451760e-01\n",
      "Coffeemaker                                     5.009502e-01\n",
      "Microwave                                      -5.214012e-01\n",
      "super_strict_30                                -4.107825e-14\n",
      "strict_14_with_grace_period                     7.800545e-02\n",
      "moderate                                        5.661860e-04\n",
      "flexible                                       -7.857164e-02\n",
      "num_airbnb_nearby                               7.121633e-05\n",
      "avgpropertyprice                                3.101900e-07\n",
      "response_none                                   6.191653e-01\n",
      "withinanhour                                   -5.652365e-01\n",
      "withinafewhours                                -4.675509e-01\n",
      "withinaday                                     -3.936727e-01\n",
      "afewdaysormore                                  8.072948e-01\n",
      "Agreeableness                                  -6.320923e-01\n",
      "Analytical                                      4.049932e-01\n",
      "Anger                                           5.717599e-01\n",
      "Confident                                      -8.767949e-01\n",
      "Conscientiousness                               1.559561e-01\n",
      "Disgust                                         0.000000e+00\n",
      "Emotional Range                                -6.567918e-01\n",
      "Extraversion                                   -4.735327e-01\n",
      "Joy                                            -3.742987e-01\n",
      "Openness                                       -2.626627e-01\n",
      "Sadness                                        -9.598668e-01\n",
      "Tentative                                      -2.751816e-01\n",
      "Apartment                                      -9.432389e-01\n",
      "House                                          -2.586178e+00\n",
      "Nature                                          3.836976e+00\n",
      "Property_type_others                           -1.283100e+00\n",
      "Vacation                                       -7.962360e-01\n",
      "Wild                                            1.771777e+00\n",
      "Longtermstaysallowed                            1.116300e-01\n",
      "Family/kidfriendly                              4.047422e-01\n",
      "Airconditioning                                 7.612124e-01\n",
      "Wifi                                           -7.790451e-01\n",
      "bathrooms                                       4.297850e-01\n",
      "bedrooms                                        1.174814e+00\n",
      "instant_bookable                               -2.901710e-01\n",
      "distance_to_downtown                            3.642689e-03\n",
      "bus                                            -2.117409e-01\n",
      "SQRTextra_people                               -1.321173e-01\n",
      "SQRTdistance_to_downtown                       -5.340437e-02\n",
      "Freeparkingonpremises_*_distance_to_downtown    6.471365e-04\n",
      "Apartment+bathrooms                            -5.134539e-01\n",
      "Apartment+bedrooms                              2.315752e-01\n",
      "bathrooms**Shampoo                              8.440247e-01\n",
      "Intercept                                       9.958583e+00\n",
      "dtype: float64\n"
     ]
    }
   ],
   "source": [
    "X_new7 = X_afterfeatureeng.copy()\n",
    "cols = ['no_alcohol','length_name', 'length_host','minimum_nights_avg_ntm','guests_included','extra_people','host_total_listings_count','Freeparkingonpremises','Heating', 'Hotwater', 'Shampoo','Coffeemaker', 'Microwave','super_strict_30', 'strict_14_with_grace_period',\n",
    "       'moderate', 'flexible',  'num_airbnb_nearby', 'avgpropertyprice','response_none', 'withinanhour', 'withinafewhours', 'withinaday',\n",
    "       'afewdaysormore','Agreeableness', 'Analytical', 'Anger',\n",
    "       'Confident', 'Conscientiousness', 'Disgust', 'Emotional Range',\n",
    "       'Extraversion', 'Joy', 'Openness', 'Sadness', 'Tentative','price','Apartment', 'House', 'Nature', 'Property_type_others', 'Vacation','Wild', 'Longtermstaysallowed','Family/kidfriendly', 'Airconditioning', 'Wifi','bathrooms', 'bedrooms','instant_bookable','distance_to_downtown','bus']\n",
    "X_new7 = X_new7[cols]\n",
    "y_price_new = X_afterfeatureeng['price'].copy()\n",
    "y_price_new = np.sqrt(y_price_new)\n",
    "X_new7.price = y_price_new\n",
    "X_new7 = new_feature_combos1(X_new7)\n",
    "\n",
    "\n",
    "from sklearn.model_selection import train_test_split\n",
    "X_train, X_test, y_train, y_test = train_test_split(X_new7.drop('price',1), X_new7['price'], test_size=0.30, random_state=5)\n",
    "from sklearn.linear_model import LinearRegression, LassoCV, RidgeCV\n",
    "from sklearn.metrics import precision_score, recall_score\n",
    "\n",
    "linreg = LinearRegression()\n",
    "linreg.fit(X_train, y_train)\n",
    "\n",
    "train_score = linreg.score(X_train, y_train)\n",
    "test_score = linreg.score(X_test, y_test)\n",
    "\n",
    "print('The train score is {} and the test score is {}'.format(train_score, test_score))\n",
    "\n",
    "betas = pd.Series(linreg.coef_, index=X_train.columns)\n",
    "betas = betas.append(pd.Series({\"Intercept\": linreg.intercept_}))\n",
    "print(betas)\n"
   ]
  },
  {
   "cell_type": "code",
   "execution_count": null,
   "metadata": {
    "colab": {
     "base_uri": "https://localhost:8080/",
     "height": 122
    },
    "id": "RyI6ykY-GALQ",
    "outputId": "e92589eb-38a5-4bf2-d01b-5438c7c2b97c"
   },
   "outputs": [
    {
     "name": "stderr",
     "output_type": "stream",
     "text": [
      "/usr/local/lib/python3.6/dist-packages/sklearn/model_selection/_split.py:1978: FutureWarning: The default value of cv will change from 3 to 5 in version 0.22. Specify it explicitly to silence this warning.\n",
      "  warnings.warn(CV_WARNING, FutureWarning)\n"
     ]
    },
    {
     "name": "stdout",
     "output_type": "stream",
     "text": [
      "{'copy_X': True, 'fit_intercept': True, 'normalize': False}\n"
     ]
    },
    {
     "name": "stderr",
     "output_type": "stream",
     "text": [
      "/usr/local/lib/python3.6/dist-packages/sklearn/model_selection/_search.py:814: DeprecationWarning: The default of the `iid` parameter will change from True to False in version 0.22 and will be removed in 0.24. This will change numeric results when test-set sizes are unequal.\n",
      "  DeprecationWarning)\n"
     ]
    }
   ],
   "source": [
    "from sklearn.model_selection import GridSearchCV\n",
    "\n",
    "parameters = {'fit_intercept':[True,False], 'normalize':[True,False], 'copy_X':[True, False]}\n",
    "\n",
    "mdl = LinearRegression()\n",
    "optimized_dt = GridSearchCV(mdl, parameters,  cv=None)\n",
    "\n",
    "optimized_dt.fit(X_train, y_train)\n",
    "print(optimized_dt.best_params_)"
   ]
  },
  {
   "cell_type": "code",
   "execution_count": null,
   "metadata": {
    "colab": {
     "base_uri": "https://localhost:8080/",
     "height": 51
    },
    "id": "_P2HshtuIUPz",
    "outputId": "6e159396-d344-418a-8b40-69e119874298"
   },
   "outputs": [
    {
     "name": "stdout",
     "output_type": "stream",
     "text": [
      "[0.50969705 0.45610793 0.46625766 0.4619752  0.48277764] 0.47536309724113324 0.019322020734055843\n"
     ]
    },
    {
     "data": {
      "text/plain": [
       "0.4592038794677354"
      ]
     },
     "execution_count": 57,
     "metadata": {
      "tags": []
     },
     "output_type": "execute_result"
    }
   ],
   "source": [
    "from sklearn.linear_model import LinearRegression\n",
    "from sklearn.model_selection import train_test_split\n",
    "from sklearn.model_selection import cross_val_score, cross_val_predict\n",
    "from sklearn import metrics\n",
    "\n",
    "lm = LinearRegression()\n",
    "\n",
    "#Next we do cross validation, which splits apart our training data and fits the model on different samples and \n",
    "# gives scores for each sample to get the best fit model before we test it on the testing data.\n",
    "\n",
    "scores = cross_val_score(lm, X_train, y_train, cv = 5)    #cv is the number of folds, scores will give an array of scores\n",
    "\n",
    "print (scores, np.mean(scores), np.std(scores))\n",
    "\n",
    "#To get predictions (y_hat) and check them all in one using cross validation\n",
    "\n",
    "predictions = cross_val_predict(lm, X_test, y_test, cv = 2)     #y_test is needed here in predictions to get scores for each fold of cv\n",
    "\n",
    "#If this is good, continue to fit the model on the data\n",
    "\n",
    "\n",
    "lm.fit(X_train, y_train)\n",
    "\n",
    "y_hat = lm.predict(X_test)      #this gives me my predictions\n",
    "\n",
    "lm.score(X_test, y_test)     #this tells me my model performance"
   ]
  },
  {
   "cell_type": "code",
   "execution_count": null,
   "metadata": {
    "colab": {
     "base_uri": "https://localhost:8080/",
     "height": 1000
    },
    "id": "LB_7EGLYLnv_",
    "outputId": "6ebc14d0-770a-4907-e65d-5faaa5a7dcd0"
   },
   "outputs": [
    {
     "name": "stdout",
     "output_type": "stream",
     "text": [
      "The train score is 0.5543917525486837 and the test score is 0.5020693777273341\n",
      "no_alcohol                                      0.000000\n",
      "length_name                                     0.000774\n",
      "length_host                                     0.007521\n",
      "minimum_nights_avg_ntm                          0.002590\n",
      "guests_included                                 0.007271\n",
      "host_total_listings_count                       0.008162\n",
      "Freeparkingonpremises                           0.000000\n",
      "Heating                                         0.001447\n",
      "Hotwater                                        0.001910\n",
      "Shampoo                                         0.000476\n",
      "Coffeemaker                                     0.000065\n",
      "Microwave                                       0.000383\n",
      "super_strict_30                                 0.000000\n",
      "strict_14_with_grace_period                     0.000447\n",
      "moderate                                        0.000115\n",
      "flexible                                        0.000331\n",
      "num_airbnb_nearby                               0.002403\n",
      "avgpropertyprice                                0.018113\n",
      "response_none                                   0.007399\n",
      "withinanhour                                    0.000549\n",
      "withinafewhours                                 0.000000\n",
      "withinaday                                      0.000073\n",
      "afewdaysormore                                  0.001371\n",
      "Agreeableness                                   0.002389\n",
      "Analytical                                      0.000572\n",
      "Anger                                           0.000000\n",
      "Confident                                       0.000000\n",
      "Conscientiousness                               0.000681\n",
      "Disgust                                         0.000000\n",
      "Emotional Range                                 0.000000\n",
      "Extraversion                                    0.000030\n",
      "Joy                                             0.000000\n",
      "Openness                                        0.000000\n",
      "Sadness                                         0.000000\n",
      "Tentative                                       0.000082\n",
      "Apartment                                       0.000077\n",
      "House                                           0.148519\n",
      "Nature                                          0.000000\n",
      "Property_type_others                            0.000000\n",
      "Vacation                                        0.000000\n",
      "Wild                                            0.001197\n",
      "Longtermstaysallowed                            0.000320\n",
      "Family/kidfriendly                              0.000334\n",
      "Airconditioning                                 0.003956\n",
      "Wifi                                            0.000685\n",
      "bathrooms                                       0.079669\n",
      "bedrooms                                        0.561245\n",
      "instant_bookable                                0.000072\n",
      "distance_to_downtown                            0.019319\n",
      "bus                                             0.000351\n",
      "SQRTextra_people                                0.027323\n",
      "SQRTdistance_to_downtown                        0.020179\n",
      "Freeparkingonpremises_*_distance_to_downtown    0.021146\n",
      "Apartment+bathrooms                             0.001745\n",
      "Apartment+bedrooms                              0.040635\n",
      "bathrooms**Shampoo                              0.008073\n",
      "dtype: float64\n"
     ]
    }
   ],
   "source": [
    "from sklearn.ensemble import RandomForestRegressor\n",
    "X_new7 = X_afterfeatureeng.copy()\n",
    "cols = ['no_alcohol','length_name', 'length_host','minimum_nights_avg_ntm','guests_included','extra_people','host_total_listings_count','Freeparkingonpremises','Heating', 'Hotwater', 'Shampoo','Coffeemaker', 'Microwave','super_strict_30', 'strict_14_with_grace_period',\n",
    "       'moderate', 'flexible',  'num_airbnb_nearby', 'avgpropertyprice','response_none', 'withinanhour', 'withinafewhours', 'withinaday',\n",
    "       'afewdaysormore','Agreeableness', 'Analytical', 'Anger',\n",
    "       'Confident', 'Conscientiousness', 'Disgust', 'Emotional Range',\n",
    "       'Extraversion', 'Joy', 'Openness', 'Sadness', 'Tentative','price','Apartment', 'House', 'Nature', 'Property_type_others', 'Vacation','Wild', 'Longtermstaysallowed','Family/kidfriendly', 'Airconditioning', 'Wifi','bathrooms', 'bedrooms','instant_bookable','distance_to_downtown','bus']\n",
    "X_new7 = X_new7[cols]\n",
    "y_price_new = X_afterfeatureeng['price'].copy()\n",
    "y_price_new = np.sqrt(y_price_new)\n",
    "X_new7.price = y_price_new\n",
    "X_new7 = new_feature_combos1(X_new7)\n",
    "\n",
    "#split train and test\n",
    "from sklearn.model_selection import train_test_split\n",
    "\n",
    "X_train, X_test, y_train, y_test = train_test_split(X_new7.drop('price',1), X_new7['price'], test_size=0.30, random_state=5)\n",
    "\n",
    "\n",
    "regr = RandomForestRegressor(max_depth= 4, random_state=0, n_estimators=100)\n",
    "regr.fit(X_train, y_train)\n",
    "\n",
    "# calculate the score\n",
    "train_score = regr.score(X_train, y_train)\n",
    "test_score = regr.score(X_test, y_test)\n",
    "print('The train score is {} and the test score is {}'.format(train_score, test_score))\n",
    "\n",
    "# calculate betas\n",
    "betas = pd.Series(regr.feature_importances_, index=X_train.columns)\n",
    "# betas = betas.append(pd.Series({\"Intercept\": regr.intercept_}))\n",
    "print(betas)\n"
   ]
  },
  {
   "cell_type": "code",
   "execution_count": null,
   "metadata": {
    "colab": {
     "base_uri": "https://localhost:8080/",
     "height": 289
    },
    "id": "8stnewWRE47M",
    "outputId": "4cd4943e-1250-427f-b39d-c91825761608"
   },
   "outputs": [
    {
     "data": {
      "text/plain": [
       "Index(['no_alcohol', 'length_name', 'length_host', 'minimum_nights_avg_ntm',\n",
       "       'guests_included', 'host_total_listings_count', 'Freeparkingonpremises',\n",
       "       'Heating', 'Hotwater', 'Shampoo', 'Coffeemaker', 'Microwave',\n",
       "       'super_strict_30', 'strict_14_with_grace_period', 'moderate',\n",
       "       'flexible', 'num_airbnb_nearby', 'avgpropertyprice', 'response_none',\n",
       "       'withinanhour', 'withinafewhours', 'withinaday', 'afewdaysormore',\n",
       "       'Agreeableness', 'Analytical', 'Anger', 'Confident',\n",
       "       'Conscientiousness', 'Disgust', 'Emotional Range', 'Extraversion',\n",
       "       'Joy', 'Openness', 'Sadness', 'Tentative', 'price', 'Apartment',\n",
       "       'House', 'Nature', 'Property_type_others', 'Vacation', 'Wild',\n",
       "       'Longtermstaysallowed', 'Family/kidfriendly', 'Airconditioning', 'Wifi',\n",
       "       'bathrooms', 'bedrooms', 'instant_bookable', 'distance_to_downtown',\n",
       "       'bus', 'SQRTextra_people', 'SQRTdistance_to_downtown',\n",
       "       'Freeparkingonpremises_*_distance_to_downtown', 'Apartment+bathrooms',\n",
       "       'Apartment+bedrooms', 'bathrooms**Shampoo'],\n",
       "      dtype='object')"
      ]
     },
     "execution_count": 41,
     "metadata": {
      "tags": []
     },
     "output_type": "execute_result"
    }
   ],
   "source": [
    "X_new7.columns"
   ]
  },
  {
   "cell_type": "markdown",
   "metadata": {
    "id": "y1PA8zmwNPpu"
   },
   "source": [
    "# **Linear Regression Plot**"
   ]
  },
  {
   "cell_type": "code",
   "execution_count": null,
   "metadata": {
    "colab": {
     "base_uri": "https://localhost:8080/",
     "height": 384
    },
    "id": "SzzS230oMpZf",
    "outputId": "27a614fe-b930-4a53-f95e-0121dbf13ec3"
   },
   "outputs": [
    {
     "data": {
      "text/plain": [
       "(array([112., 716., 660., 364., 219., 115.,  45.,  14.,   7.,   8.,   1.,\n",
       "          1.,   0.,   0.,   2.]),\n",
       " array([ 12.86377349,  42.96643167,  73.06908985, 103.17174803,\n",
       "        133.27440621, 163.37706439, 193.47972257, 223.58238075,\n",
       "        253.68503893, 283.78769711, 313.89035529, 343.99301347,\n",
       "        374.09567165, 404.19832983, 434.30098801, 464.40364619]),\n",
       " <a list of 15 Patch objects>)"
      ]
     },
     "execution_count": 69,
     "metadata": {
      "tags": []
     },
     "output_type": "execute_result"
    },
    {
     "data": {
      "image/png": "[encoded data removed]",
      "text/plain": [
       "<Figure size 432x288 with 1 Axes>"
      ]
     },
     "metadata": {
      "tags": []
     },
     "output_type": "display_data"
    }
   ],
   "source": [
    "import matplotlib.pyplot as plt\n",
    "#y_test graph\n",
    "plt.hist(linreg.predict(X_train)**2, bins = 15)"
   ]
  },
  {
   "cell_type": "code",
   "execution_count": null,
   "metadata": {
    "colab": {
     "base_uri": "https://localhost:8080/",
     "height": 350
    },
    "id": "LSIg_oimND8d",
    "outputId": "e076163e-f1f8-4d6f-d4c8-56099196c8fd"
   },
   "outputs": [
    {
     "data": {
      "text/plain": [
       "(array([591., 614., 480., 256., 125.,  78.,  36.,  41.,   7.,  13.,   8.,\n",
       "          3.,   5.,   5.,   2.]),\n",
       " array([ 16. ,  51.6,  87.2, 122.8, 158.4, 194. , 229.6, 265.2, 300.8,\n",
       "        336.4, 372. , 407.6, 443.2, 478.8, 514.4, 550. ]),\n",
       " <a list of 15 Patch objects>)"
      ]
     },
     "execution_count": 71,
     "metadata": {
      "tags": []
     },
     "output_type": "execute_result"
    },
    {
     "data": {
      "image/png": "[encoded data removed]",
      "text/plain": [
       "<Figure size 432x288 with 1 Axes>"
      ]
     },
     "metadata": {
      "tags": []
     },
     "output_type": "display_data"
    }
   ],
   "source": [
    "plt.hist(y_train**2,bins = 15)"
   ]
  },
  {
   "cell_type": "markdown",
   "metadata": {
    "id": "As3-IBPcNdcu"
   },
   "source": [
    "# **Random Forest Plot**"
   ]
  },
  {
   "cell_type": "code",
   "execution_count": null,
   "metadata": {
    "colab": {
     "base_uri": "https://localhost:8080/",
     "height": 385
    },
    "id": "UiCTzv4sNM6s",
    "outputId": "49e67db1-f12b-412b-c129-0085af4376bc"
   },
   "outputs": [
    {
     "data": {
      "text/plain": [
       "(array([677.,  71., 442., 353., 147., 184., 103.,  70.,  88.,  79.,  36.,\n",
       "          8.,   4.,   1.,   1.]),\n",
       " array([ 40.24293501,  56.06271715,  71.88249929,  87.70228144,\n",
       "        103.52206358, 119.34184573, 135.16162787, 150.98141002,\n",
       "        166.80119216, 182.62097431, 198.44075645, 214.2605386 ,\n",
       "        230.08032074, 245.90010289, 261.71988503, 277.53966718]),\n",
       " <a list of 15 Patch objects>)"
      ]
     },
     "execution_count": 74,
     "metadata": {
      "tags": []
     },
     "output_type": "execute_result"
    },
    {
     "data": {
      "image/png": "[encoded data removed]",
      "text/plain": [
       "<Figure size 432x288 with 1 Axes>"
      ]
     },
     "metadata": {
      "tags": []
     },
     "output_type": "display_data"
    }
   ],
   "source": [
    "plt.hist(regr.predict(X_train)**2, bins = 15)"
   ]
  },
  {
   "cell_type": "markdown",
   "metadata": {
    "id": "F1cXn5fEAdUP"
   },
   "source": [
    "# **CART**"
   ]
  },
  {
   "cell_type": "code",
   "execution_count": null,
   "metadata": {
    "colab": {
     "base_uri": "https://localhost:8080/",
     "height": 694
    },
    "id": "PUICFTf3AksX",
    "outputId": "d80947bb-966c-4f1c-9cc5-f769aef021a0"
   },
   "outputs": [
    {
     "name": "stdout",
     "output_type": "stream",
     "text": [
      "The score of this model over training data is 0.516 and 0.473 over the testing data\n"
     ]
    },
    {
     "data": {
      "image/svg+xml": [
       "<svg height=\"477pt\" viewBox=\"0.00 0.00 2057.50 477.00\" width=\"2058pt\" xmlns=\"http://www.w3.org/2000/svg\" xmlns:xlink=\"http://www.w3.org/1999/xlink\">\n",
       "<g class=\"graph\" id=\"graph0\" transform=\"scale(1 1) rotate(0) translate(4 473)\">\n",
       "<title>Tree</title>\n",
       "<polygon fill=\"#ffffff\" points=\"-4,4 -4,-473 2053.5,-473 2053.5,4 -4,4\" stroke=\"transparent\"/>\n",
       "<!-- 0 -->\n",
       "<g class=\"node\" id=\"node1\">\n",
       "<title>0</title>\n",
       "<path d=\"M1062,-469C1062,-469 960,-469 960,-469 954,-469 948,-463 948,-457 948,-457 948,-413 948,-413 948,-407 954,-401 960,-401 960,-401 1062,-401 1062,-401 1068,-401 1074,-407 1074,-413 1074,-413 1074,-457 1074,-457 1074,-463 1068,-469 1062,-469\" fill=\"#f8dfcc\" stroke=\"#000000\"/>\n",
       "<text fill=\"#000000\" font-family=\"Helvetica,sans-Serif\" font-size=\"14.00\" text-anchor=\"middle\" x=\"1011\" y=\"-453.8\">bedrooms &lt;= 1.5</text>\n",
       "<text fill=\"#000000\" font-family=\"Helvetica,sans-Serif\" font-size=\"14.00\" text-anchor=\"middle\" x=\"1011\" y=\"-438.8\">mse = 9.533</text>\n",
       "<text fill=\"#000000\" font-family=\"Helvetica,sans-Serif\" font-size=\"14.00\" text-anchor=\"middle\" x=\"1011\" y=\"-423.8\">samples = 2264</text>\n",
       "<text fill=\"#000000\" font-family=\"Helvetica,sans-Serif\" font-size=\"14.00\" text-anchor=\"middle\" x=\"1011\" y=\"-408.8\">value = 9.539</text>\n",
       "</g>\n",
       "<!-- 1 -->\n",
       "<g class=\"node\" id=\"node2\">\n",
       "<title>1</title>\n",
       "<path d=\"M818,-365C818,-365 722,-365 722,-365 716,-365 710,-359 710,-353 710,-353 710,-309 710,-309 710,-303 716,-297 722,-297 722,-297 818,-297 818,-297 824,-297 830,-303 830,-309 830,-309 830,-353 830,-353 830,-359 824,-365 818,-365\" fill=\"#fcefe6\" stroke=\"#000000\"/>\n",
       "<text fill=\"#000000\" font-family=\"Helvetica,sans-Serif\" font-size=\"14.00\" text-anchor=\"middle\" x=\"770\" y=\"-349.8\">House &lt;= 0.5</text>\n",
       "<text fill=\"#000000\" font-family=\"Helvetica,sans-Serif\" font-size=\"14.00\" text-anchor=\"middle\" x=\"770\" y=\"-334.8\">mse = 5.308</text>\n",
       "<text fill=\"#000000\" font-family=\"Helvetica,sans-Serif\" font-size=\"14.00\" text-anchor=\"middle\" x=\"770\" y=\"-319.8\">samples = 1496</text>\n",
       "<text fill=\"#000000\" font-family=\"Helvetica,sans-Serif\" font-size=\"14.00\" text-anchor=\"middle\" x=\"770\" y=\"-304.8\">value = 8.312</text>\n",
       "</g>\n",
       "<!-- 0&#45;&gt;1 -->\n",
       "<g class=\"edge\" id=\"edge1\">\n",
       "<title>0-&gt;1</title>\n",
       "<path d=\"M947.9949,-407.8111C914.7226,-393.4529 873.8117,-375.7984 839.6046,-361.0368\" fill=\"none\" stroke=\"#000000\"/>\n",
       "<polygon fill=\"#000000\" points=\"840.7145,-357.7039 830.1461,-356.9552 837.9409,-364.131 840.7145,-357.7039\" stroke=\"#000000\"/>\n",
       "<text fill=\"#000000\" font-family=\"Helvetica,sans-Serif\" font-size=\"14.00\" text-anchor=\"middle\" x=\"839.3728\" y=\"-376.4902\">True</text>\n",
       "</g>\n",
       "<!-- 16 -->\n",
       "<g class=\"node\" id=\"node17\">\n",
       "<title>16</title>\n",
       "<path d=\"M1304,-365C1304,-365 1190,-365 1190,-365 1184,-365 1178,-359 1178,-353 1178,-353 1178,-309 1178,-309 1178,-303 1184,-297 1190,-297 1190,-297 1304,-297 1304,-297 1310,-297 1316,-303 1316,-309 1316,-309 1316,-353 1316,-353 1316,-359 1310,-365 1304,-365\" fill=\"#f2c09b\" stroke=\"#000000\"/>\n",
       "<text fill=\"#000000\" font-family=\"Helvetica,sans-Serif\" font-size=\"14.00\" text-anchor=\"middle\" x=\"1247\" y=\"-349.8\">bathrooms &lt;= 1.75</text>\n",
       "<text fill=\"#000000\" font-family=\"Helvetica,sans-Serif\" font-size=\"14.00\" text-anchor=\"middle\" x=\"1247\" y=\"-334.8\">mse = 9.118</text>\n",
       "<text fill=\"#000000\" font-family=\"Helvetica,sans-Serif\" font-size=\"14.00\" text-anchor=\"middle\" x=\"1247\" y=\"-319.8\">samples = 768</text>\n",
       "<text fill=\"#000000\" font-family=\"Helvetica,sans-Serif\" font-size=\"14.00\" text-anchor=\"middle\" x=\"1247\" y=\"-304.8\">value = 11.929</text>\n",
       "</g>\n",
       "<!-- 0&#45;&gt;16 -->\n",
       "<g class=\"edge\" id=\"edge16\">\n",
       "<title>0-&gt;16</title>\n",
       "<path d=\"M1074.2437,-407.1299C1103.1977,-394.3705 1137.8032,-379.1206 1168.4117,-365.6321\" fill=\"none\" stroke=\"#000000\"/>\n",
       "<polygon fill=\"#000000\" points=\"1170.0325,-368.7427 1177.7719,-361.5073 1167.2096,-362.3371 1170.0325,-368.7427\" stroke=\"#000000\"/>\n",
       "<text fill=\"#000000\" font-family=\"Helvetica,sans-Serif\" font-size=\"14.00\" text-anchor=\"middle\" x=\"1168.724\" y=\"-381.1125\">False</text>\n",
       "</g>\n",
       "<!-- 2 -->\n",
       "<g class=\"node\" id=\"node3\">\n",
       "<title>2</title>\n",
       "<path d=\"M459.5,-261C459.5,-261 256.5,-261 256.5,-261 250.5,-261 244.5,-255 244.5,-249 244.5,-249 244.5,-205 244.5,-205 244.5,-199 250.5,-193 256.5,-193 256.5,-193 459.5,-193 459.5,-193 465.5,-193 471.5,-199 471.5,-205 471.5,-205 471.5,-249 471.5,-249 471.5,-255 465.5,-261 459.5,-261\" fill=\"#f9e0cf\" stroke=\"#000000\"/>\n",
       "<text fill=\"#000000\" font-family=\"Helvetica,sans-Serif\" font-size=\"14.00\" text-anchor=\"middle\" x=\"358\" y=\"-245.8\">distance_to_downtown &lt;= 767.5</text>\n",
       "<text fill=\"#000000\" font-family=\"Helvetica,sans-Serif\" font-size=\"14.00\" text-anchor=\"middle\" x=\"358\" y=\"-230.8\">mse = 4.397</text>\n",
       "<text fill=\"#000000\" font-family=\"Helvetica,sans-Serif\" font-size=\"14.00\" text-anchor=\"middle\" x=\"358\" y=\"-215.8\">samples = 730</text>\n",
       "<text fill=\"#000000\" font-family=\"Helvetica,sans-Serif\" font-size=\"14.00\" text-anchor=\"middle\" x=\"358\" y=\"-200.8\">value = 9.427</text>\n",
       "</g>\n",
       "<!-- 1&#45;&gt;2 -->\n",
       "<g class=\"edge\" id=\"edge2\">\n",
       "<title>1-&gt;2</title>\n",
       "<path d=\"M709.6504,-315.7661C650.0777,-300.7283 557.233,-277.2918 481.9013,-258.276\" fill=\"none\" stroke=\"#000000\"/>\n",
       "<polygon fill=\"#000000\" points=\"482.4176,-254.7967 471.865,-255.7426 480.7043,-261.5838 482.4176,-254.7967\" stroke=\"#000000\"/>\n",
       "</g>\n",
       "<!-- 9 -->\n",
       "<g class=\"node\" id=\"node10\">\n",
       "<title>9</title>\n",
       "<path d=\"M858.5,-261C858.5,-261 681.5,-261 681.5,-261 675.5,-261 669.5,-255 669.5,-249 669.5,-249 669.5,-205 669.5,-205 669.5,-199 675.5,-193 681.5,-193 681.5,-193 858.5,-193 858.5,-193 864.5,-193 870.5,-199 870.5,-205 870.5,-205 870.5,-249 870.5,-249 870.5,-255 864.5,-261 858.5,-261\" fill=\"#fffdfb\" stroke=\"#000000\"/>\n",
       "<text fill=\"#000000\" font-family=\"Helvetica,sans-Serif\" font-size=\"14.00\" text-anchor=\"middle\" x=\"770\" y=\"-245.8\">SQRTextra_people &lt;= 9.975</text>\n",
       "<text fill=\"#000000\" font-family=\"Helvetica,sans-Serif\" font-size=\"14.00\" text-anchor=\"middle\" x=\"770\" y=\"-230.8\">mse = 3.865</text>\n",
       "<text fill=\"#000000\" font-family=\"Helvetica,sans-Serif\" font-size=\"14.00\" text-anchor=\"middle\" x=\"770\" y=\"-215.8\">samples = 766</text>\n",
       "<text fill=\"#000000\" font-family=\"Helvetica,sans-Serif\" font-size=\"14.00\" text-anchor=\"middle\" x=\"770\" y=\"-200.8\">value = 7.25</text>\n",
       "</g>\n",
       "<!-- 1&#45;&gt;9 -->\n",
       "<g class=\"edge\" id=\"edge9\">\n",
       "<title>1-&gt;9</title>\n",
       "<path d=\"M770,-296.9465C770,-288.776 770,-279.9318 770,-271.3697\" fill=\"none\" stroke=\"#000000\"/>\n",
       "<polygon fill=\"#000000\" points=\"773.5001,-271.13 770,-261.13 766.5001,-271.13 773.5001,-271.13\" stroke=\"#000000\"/>\n",
       "</g>\n",
       "<!-- 3 -->\n",
       "<g class=\"node\" id=\"node4\">\n",
       "<title>3</title>\n",
       "<path d=\"M252,-157C252,-157 120,-157 120,-157 114,-157 108,-151 108,-145 108,-145 108,-101 108,-101 108,-95 114,-89 120,-89 120,-89 252,-89 252,-89 258,-89 264,-95 264,-101 264,-101 264,-145 264,-145 264,-151 258,-157 252,-157\" fill=\"#f9e2d1\" stroke=\"#000000\"/>\n",
       "<text fill=\"#000000\" font-family=\"Helvetica,sans-Serif\" font-size=\"14.00\" text-anchor=\"middle\" x=\"186\" y=\"-141.8\">Airconditioning &lt;= 0.5</text>\n",
       "<text fill=\"#000000\" font-family=\"Helvetica,sans-Serif\" font-size=\"14.00\" text-anchor=\"middle\" x=\"186\" y=\"-126.8\">mse = 3.796</text>\n",
       "<text fill=\"#000000\" font-family=\"Helvetica,sans-Serif\" font-size=\"14.00\" text-anchor=\"middle\" x=\"186\" y=\"-111.8\">samples = 703</text>\n",
       "<text fill=\"#000000\" font-family=\"Helvetica,sans-Serif\" font-size=\"14.00\" text-anchor=\"middle\" x=\"186\" y=\"-96.8\">value = 9.322</text>\n",
       "</g>\n",
       "<!-- 2&#45;&gt;3 -->\n",
       "<g class=\"edge\" id=\"edge3\">\n",
       "<title>2-&gt;3</title>\n",
       "<path d=\"M301.6808,-192.9465C285.4952,-183.1599 267.711,-172.4066 251.0448,-162.3294\" fill=\"none\" stroke=\"#000000\"/>\n",
       "<polygon fill=\"#000000\" points=\"252.8141,-159.3092 242.4458,-157.13 249.1921,-165.2993 252.8141,-159.3092\" stroke=\"#000000\"/>\n",
       "</g>\n",
       "<!-- 6 -->\n",
       "<g class=\"node\" id=\"node7\">\n",
       "<title>6</title>\n",
       "<path d=\"M417.5,-157C417.5,-157 298.5,-157 298.5,-157 292.5,-157 286.5,-151 286.5,-145 286.5,-145 286.5,-101 286.5,-101 286.5,-95 292.5,-89 298.5,-89 298.5,-89 417.5,-89 417.5,-89 423.5,-89 429.5,-95 429.5,-101 429.5,-101 429.5,-145 429.5,-145 429.5,-151 423.5,-157 417.5,-157\" fill=\"#f1bd97\" stroke=\"#000000\"/>\n",
       "<text fill=\"#000000\" font-family=\"Helvetica,sans-Serif\" font-size=\"14.00\" text-anchor=\"middle\" x=\"358\" y=\"-141.8\">withinanhour &lt;= 0.5</text>\n",
       "<text fill=\"#000000\" font-family=\"Helvetica,sans-Serif\" font-size=\"14.00\" text-anchor=\"middle\" x=\"358\" y=\"-126.8\">mse = 12.33</text>\n",
       "<text fill=\"#000000\" font-family=\"Helvetica,sans-Serif\" font-size=\"14.00\" text-anchor=\"middle\" x=\"358\" y=\"-111.8\">samples = 27</text>\n",
       "<text fill=\"#000000\" font-family=\"Helvetica,sans-Serif\" font-size=\"14.00\" text-anchor=\"middle\" x=\"358\" y=\"-96.8\">value = 12.157</text>\n",
       "</g>\n",
       "<!-- 2&#45;&gt;6 -->\n",
       "<g class=\"edge\" id=\"edge6\">\n",
       "<title>2-&gt;6</title>\n",
       "<path d=\"M358,-192.9465C358,-184.776 358,-175.9318 358,-167.3697\" fill=\"none\" stroke=\"#000000\"/>\n",
       "<polygon fill=\"#000000\" points=\"361.5001,-167.13 358,-157.13 354.5001,-167.13 361.5001,-167.13\" stroke=\"#000000\"/>\n",
       "</g>\n",
       "<!-- 4 -->\n",
       "<g class=\"node\" id=\"node5\">\n",
       "<title>4</title>\n",
       "<path d=\"M100,-53C100,-53 12,-53 12,-53 6,-53 0,-47 0,-41 0,-41 0,-12 0,-12 0,-6 6,0 12,0 12,0 100,0 100,0 106,0 112,-6 112,-12 112,-12 112,-41 112,-41 112,-47 106,-53 100,-53\" fill=\"#fbeadd\" stroke=\"#000000\"/>\n",
       "<text fill=\"#000000\" font-family=\"Helvetica,sans-Serif\" font-size=\"14.00\" text-anchor=\"middle\" x=\"56\" y=\"-37.8\">mse = 3.903</text>\n",
       "<text fill=\"#000000\" font-family=\"Helvetica,sans-Serif\" font-size=\"14.00\" text-anchor=\"middle\" x=\"56\" y=\"-22.8\">samples = 194</text>\n",
       "<text fill=\"#000000\" font-family=\"Helvetica,sans-Serif\" font-size=\"14.00\" text-anchor=\"middle\" x=\"56\" y=\"-7.8\">value = 8.707</text>\n",
       "</g>\n",
       "<!-- 3&#45;&gt;4 -->\n",
       "<g class=\"edge\" id=\"edge4\">\n",
       "<title>3-&gt;4</title>\n",
       "<path d=\"M140.1669,-88.9777C127.2143,-79.3629 113.1465,-68.9203 100.2867,-59.3743\" fill=\"none\" stroke=\"#000000\"/>\n",
       "<polygon fill=\"#000000\" points=\"102.1499,-56.3986 92.0342,-53.2485 97.9776,-62.0193 102.1499,-56.3986\" stroke=\"#000000\"/>\n",
       "</g>\n",
       "<!-- 5 -->\n",
       "<g class=\"node\" id=\"node6\">\n",
       "<title>5</title>\n",
       "<path d=\"M230,-53C230,-53 142,-53 142,-53 136,-53 130,-47 130,-41 130,-41 130,-12 130,-12 130,-6 136,0 142,0 142,0 230,0 230,0 236,0 242,-6 242,-12 242,-12 242,-41 242,-41 242,-47 236,-53 230,-53\" fill=\"#f8dfcc\" stroke=\"#000000\"/>\n",
       "<text fill=\"#000000\" font-family=\"Helvetica,sans-Serif\" font-size=\"14.00\" text-anchor=\"middle\" x=\"186\" y=\"-37.8\">mse = 3.555</text>\n",
       "<text fill=\"#000000\" font-family=\"Helvetica,sans-Serif\" font-size=\"14.00\" text-anchor=\"middle\" x=\"186\" y=\"-22.8\">samples = 509</text>\n",
       "<text fill=\"#000000\" font-family=\"Helvetica,sans-Serif\" font-size=\"14.00\" text-anchor=\"middle\" x=\"186\" y=\"-7.8\">value = 9.556</text>\n",
       "</g>\n",
       "<!-- 3&#45;&gt;5 -->\n",
       "<g class=\"edge\" id=\"edge5\">\n",
       "<title>3-&gt;5</title>\n",
       "<path d=\"M186,-88.9777C186,-80.7364 186,-71.887 186,-63.5153\" fill=\"none\" stroke=\"#000000\"/>\n",
       "<polygon fill=\"#000000\" points=\"189.5001,-63.2484 186,-53.2485 182.5001,-63.2485 189.5001,-63.2484\" stroke=\"#000000\"/>\n",
       "</g>\n",
       "<!-- 7 -->\n",
       "<g class=\"node\" id=\"node8\">\n",
       "<title>7</title>\n",
       "<path d=\"M352,-53C352,-53 272,-53 272,-53 266,-53 260,-47 260,-41 260,-41 260,-12 260,-12 260,-6 266,0 272,0 272,0 352,0 352,0 358,0 364,-6 364,-12 364,-12 364,-41 364,-41 364,-47 358,-53 352,-53\" fill=\"#f4caac\" stroke=\"#000000\"/>\n",
       "<text fill=\"#000000\" font-family=\"Helvetica,sans-Serif\" font-size=\"14.00\" text-anchor=\"middle\" x=\"312\" y=\"-37.8\">mse = 6.717</text>\n",
       "<text fill=\"#000000\" font-family=\"Helvetica,sans-Serif\" font-size=\"14.00\" text-anchor=\"middle\" x=\"312\" y=\"-22.8\">samples = 22</text>\n",
       "<text fill=\"#000000\" font-family=\"Helvetica,sans-Serif\" font-size=\"14.00\" text-anchor=\"middle\" x=\"312\" y=\"-7.8\">value = 11.12</text>\n",
       "</g>\n",
       "<!-- 6&#45;&gt;7 -->\n",
       "<g class=\"edge\" id=\"edge7\">\n",
       "<title>6-&gt;7</title>\n",
       "<path d=\"M341.7821,-88.9777C337.679,-80.3702 333.2597,-71.0992 329.1139,-62.402\" fill=\"none\" stroke=\"#000000\"/>\n",
       "<polygon fill=\"#000000\" points=\"332.213,-60.7693 324.7506,-53.2485 325.8942,-63.7814 332.213,-60.7693\" stroke=\"#000000\"/>\n",
       "</g>\n",
       "<!-- 8 -->\n",
       "<g class=\"node\" id=\"node9\">\n",
       "<title>8</title>\n",
       "<path d=\"M483.5,-53C483.5,-53 394.5,-53 394.5,-53 388.5,-53 382.5,-47 382.5,-41 382.5,-41 382.5,-12 382.5,-12 382.5,-6 388.5,0 394.5,0 394.5,0 483.5,0 483.5,0 489.5,0 495.5,-6 495.5,-12 495.5,-12 495.5,-41 495.5,-41 495.5,-47 489.5,-53 483.5,-53\" fill=\"#e58139\" stroke=\"#000000\"/>\n",
       "<text fill=\"#000000\" font-family=\"Helvetica,sans-Serif\" font-size=\"14.00\" text-anchor=\"middle\" x=\"439\" y=\"-37.8\">mse = 11.484</text>\n",
       "<text fill=\"#000000\" font-family=\"Helvetica,sans-Serif\" font-size=\"14.00\" text-anchor=\"middle\" x=\"439\" y=\"-22.8\">samples = 5</text>\n",
       "<text fill=\"#000000\" font-family=\"Helvetica,sans-Serif\" font-size=\"14.00\" text-anchor=\"middle\" x=\"439\" y=\"-7.8\">value = 16.719</text>\n",
       "</g>\n",
       "<!-- 6&#45;&gt;8 -->\n",
       "<g class=\"edge\" id=\"edge8\">\n",
       "<title>6-&gt;8</title>\n",
       "<path d=\"M386.5576,-88.9777C394.1669,-79.9123 402.3939,-70.111 410.0253,-61.0192\" fill=\"none\" stroke=\"#000000\"/>\n",
       "<polygon fill=\"#000000\" points=\"412.7995,-63.1581 416.5479,-53.2485 407.438,-58.6577 412.7995,-63.1581\" stroke=\"#000000\"/>\n",
       "</g>\n",
       "<!-- 10 -->\n",
       "<g class=\"node\" id=\"node11\">\n",
       "<title>10</title>\n",
       "<path d=\"M838,-157C838,-157 460,-157 460,-157 454,-157 448,-151 448,-145 448,-145 448,-101 448,-101 448,-95 454,-89 460,-89 460,-89 838,-89 838,-89 844,-89 850,-95 850,-101 850,-101 850,-145 850,-145 850,-151 844,-157 838,-157\" fill=\"#fffdfc\" stroke=\"#000000\"/>\n",
       "<text fill=\"#000000\" font-family=\"Helvetica,sans-Serif\" font-size=\"14.00\" text-anchor=\"middle\" x=\"649\" y=\"-141.8\">Freeparkingonpremises_*_distance_to_downtown &lt;= 188.5</text>\n",
       "<text fill=\"#000000\" font-family=\"Helvetica,sans-Serif\" font-size=\"14.00\" text-anchor=\"middle\" x=\"649\" y=\"-126.8\">mse = 3.656</text>\n",
       "<text fill=\"#000000\" font-family=\"Helvetica,sans-Serif\" font-size=\"14.00\" text-anchor=\"middle\" x=\"649\" y=\"-111.8\">samples = 763</text>\n",
       "<text fill=\"#000000\" font-family=\"Helvetica,sans-Serif\" font-size=\"14.00\" text-anchor=\"middle\" x=\"649\" y=\"-96.8\">value = 7.221</text>\n",
       "</g>\n",
       "<!-- 9&#45;&gt;10 -->\n",
       "<g class=\"edge\" id=\"edge10\">\n",
       "<title>9-&gt;10</title>\n",
       "<path d=\"M730.3801,-192.9465C719.516,-183.6088 707.6282,-173.3911 696.3765,-163.7203\" fill=\"none\" stroke=\"#000000\"/>\n",
       "<polygon fill=\"#000000\" points=\"698.5741,-160.994 688.7089,-157.13 694.0113,-166.3026 698.5741,-160.994\" stroke=\"#000000\"/>\n",
       "</g>\n",
       "<!-- 13 -->\n",
       "<g class=\"node\" id=\"node14\">\n",
       "<title>13</title>\n",
       "<path d=\"M1000,-157C1000,-157 880,-157 880,-157 874,-157 868,-151 868,-145 868,-145 868,-101 868,-101 868,-95 874,-89 880,-89 880,-89 1000,-89 1000,-89 1006,-89 1012,-95 1012,-101 1012,-101 1012,-145 1012,-145 1012,-151 1006,-157 1000,-157\" fill=\"#ea9b62\" stroke=\"#000000\"/>\n",
       "<text fill=\"#000000\" font-family=\"Helvetica,sans-Serif\" font-size=\"14.00\" text-anchor=\"middle\" x=\"940\" y=\"-141.8\">Coffeemaker &lt;= 0.5</text>\n",
       "<text fill=\"#000000\" font-family=\"Helvetica,sans-Serif\" font-size=\"14.00\" text-anchor=\"middle\" x=\"940\" y=\"-126.8\">mse = 0.549</text>\n",
       "<text fill=\"#000000\" font-family=\"Helvetica,sans-Serif\" font-size=\"14.00\" text-anchor=\"middle\" x=\"940\" y=\"-111.8\">samples = 3</text>\n",
       "<text fill=\"#000000\" font-family=\"Helvetica,sans-Serif\" font-size=\"14.00\" text-anchor=\"middle\" x=\"940\" y=\"-96.8\">value = 14.735</text>\n",
       "</g>\n",
       "<!-- 9&#45;&gt;13 -->\n",
       "<g class=\"edge\" id=\"edge13\">\n",
       "<title>9-&gt;13</title>\n",
       "<path d=\"M825.6644,-192.9465C841.5149,-183.2497 858.9168,-172.6039 875.2579,-162.6069\" fill=\"none\" stroke=\"#000000\"/>\n",
       "<polygon fill=\"#000000\" points=\"877.5067,-165.3342 884.2106,-157.13 873.8537,-159.363 877.5067,-165.3342\" stroke=\"#000000\"/>\n",
       "</g>\n",
       "<!-- 11 -->\n",
       "<g class=\"node\" id=\"node12\">\n",
       "<title>11</title>\n",
       "<path d=\"M614,-53C614,-53 526,-53 526,-53 520,-53 514,-47 514,-41 514,-41 514,-12 514,-12 514,-6 520,0 526,0 526,0 614,0 614,0 620,0 626,-6 626,-12 626,-12 626,-41 626,-41 626,-47 620,-53 614,-53\" fill=\"#ffffff\" stroke=\"#000000\"/>\n",
       "<text fill=\"#000000\" font-family=\"Helvetica,sans-Serif\" font-size=\"14.00\" text-anchor=\"middle\" x=\"570\" y=\"-37.8\">mse = 3.032</text>\n",
       "<text fill=\"#000000\" font-family=\"Helvetica,sans-Serif\" font-size=\"14.00\" text-anchor=\"middle\" x=\"570\" y=\"-22.8\">samples = 692</text>\n",
       "<text fill=\"#000000\" font-family=\"Helvetica,sans-Serif\" font-size=\"14.00\" text-anchor=\"middle\" x=\"570\" y=\"-7.8\">value = 7.07</text>\n",
       "</g>\n",
       "<!-- 10&#45;&gt;11 -->\n",
       "<g class=\"edge\" id=\"edge11\">\n",
       "<title>10-&gt;11</title>\n",
       "<path d=\"M621.1476,-88.9777C613.7261,-79.9123 605.7023,-70.111 598.2593,-61.0192\" fill=\"none\" stroke=\"#000000\"/>\n",
       "<polygon fill=\"#000000\" points=\"600.9405,-58.7692 591.8977,-53.2485 595.5241,-63.2034 600.9405,-58.7692\" stroke=\"#000000\"/>\n",
       "</g>\n",
       "<!-- 12 -->\n",
       "<g class=\"node\" id=\"node13\">\n",
       "<title>12</title>\n",
       "<path d=\"M736,-53C736,-53 656,-53 656,-53 650,-53 644,-47 644,-41 644,-41 644,-12 644,-12 644,-6 650,0 656,0 656,0 736,0 736,0 742,0 748,-6 748,-12 748,-12 748,-41 748,-41 748,-47 742,-53 736,-53\" fill=\"#fbeade\" stroke=\"#000000\"/>\n",
       "<text fill=\"#000000\" font-family=\"Helvetica,sans-Serif\" font-size=\"14.00\" text-anchor=\"middle\" x=\"696\" y=\"-37.8\">mse = 7.369</text>\n",
       "<text fill=\"#000000\" font-family=\"Helvetica,sans-Serif\" font-size=\"14.00\" text-anchor=\"middle\" x=\"696\" y=\"-22.8\">samples = 71</text>\n",
       "<text fill=\"#000000\" font-family=\"Helvetica,sans-Serif\" font-size=\"14.00\" text-anchor=\"middle\" x=\"696\" y=\"-7.8\">value = 8.689</text>\n",
       "</g>\n",
       "<!-- 10&#45;&gt;12 -->\n",
       "<g class=\"edge\" id=\"edge12\">\n",
       "<title>10-&gt;12</title>\n",
       "<path d=\"M665.5704,-88.9777C669.7627,-80.3702 674.2781,-71.0992 678.514,-62.402\" fill=\"none\" stroke=\"#000000\"/>\n",
       "<polygon fill=\"#000000\" points=\"681.7401,-63.7714 682.9722,-53.2485 675.4468,-60.7063 681.7401,-63.7714\" stroke=\"#000000\"/>\n",
       "</g>\n",
       "<!-- 14 -->\n",
       "<g class=\"node\" id=\"node15\">\n",
       "<title>14</title>\n",
       "<path d=\"M858,-53C858,-53 778,-53 778,-53 772,-53 766,-47 766,-41 766,-41 766,-12 766,-12 766,-6 772,0 778,0 778,0 858,0 858,0 864,0 870,-6 870,-12 870,-12 870,-41 870,-41 870,-47 864,-53 858,-53\" fill=\"#e88d4c\" stroke=\"#000000\"/>\n",
       "<text fill=\"#000000\" font-family=\"Helvetica,sans-Serif\" font-size=\"14.00\" text-anchor=\"middle\" x=\"818\" y=\"-37.8\">mse = 0.0</text>\n",
       "<text fill=\"#000000\" font-family=\"Helvetica,sans-Serif\" font-size=\"14.00\" text-anchor=\"middle\" x=\"818\" y=\"-22.8\">samples = 1</text>\n",
       "<text fill=\"#000000\" font-family=\"Helvetica,sans-Serif\" font-size=\"14.00\" text-anchor=\"middle\" x=\"818\" y=\"-7.8\">value = 15.78</text>\n",
       "</g>\n",
       "<!-- 13&#45;&gt;14 -->\n",
       "<g class=\"edge\" id=\"edge14\">\n",
       "<title>13-&gt;14</title>\n",
       "<path d=\"M896.9874,-88.9777C884.9476,-79.4545 871.8812,-69.1191 859.9065,-59.6473\" fill=\"none\" stroke=\"#000000\"/>\n",
       "<polygon fill=\"#000000\" points=\"861.8311,-56.7072 851.8167,-53.2485 857.4885,-62.1973 861.8311,-56.7072\" stroke=\"#000000\"/>\n",
       "</g>\n",
       "<!-- 15 -->\n",
       "<g class=\"node\" id=\"node16\">\n",
       "<title>15</title>\n",
       "<path d=\"M989.5,-53C989.5,-53 900.5,-53 900.5,-53 894.5,-53 888.5,-47 888.5,-41 888.5,-41 888.5,-12 888.5,-12 888.5,-6 894.5,0 900.5,0 900.5,0 989.5,0 989.5,0 995.5,0 1001.5,-6 1001.5,-12 1001.5,-12 1001.5,-41 1001.5,-41 1001.5,-47 995.5,-53 989.5,-53\" fill=\"#eca26c\" stroke=\"#000000\"/>\n",
       "<text fill=\"#000000\" font-family=\"Helvetica,sans-Serif\" font-size=\"14.00\" text-anchor=\"middle\" x=\"945\" y=\"-37.8\">mse = 0.005</text>\n",
       "<text fill=\"#000000\" font-family=\"Helvetica,sans-Serif\" font-size=\"14.00\" text-anchor=\"middle\" x=\"945\" y=\"-22.8\">samples = 2</text>\n",
       "<text fill=\"#000000\" font-family=\"Helvetica,sans-Serif\" font-size=\"14.00\" text-anchor=\"middle\" x=\"945\" y=\"-7.8\">value = 14.212</text>\n",
       "</g>\n",
       "<!-- 13&#45;&gt;15 -->\n",
       "<g class=\"edge\" id=\"edge15\">\n",
       "<title>13-&gt;15</title>\n",
       "<path d=\"M941.7628,-88.9777C942.1946,-80.6449 942.6585,-71.6903 943.0966,-63.2364\" fill=\"none\" stroke=\"#000000\"/>\n",
       "<polygon fill=\"#000000\" points=\"946.5918,-63.4162 943.6141,-53.2485 939.6012,-63.0539 946.5918,-63.4162\" stroke=\"#000000\"/>\n",
       "</g>\n",
       "<!-- 17 -->\n",
       "<g class=\"node\" id=\"node18\">\n",
       "<title>17</title>\n",
       "<path d=\"M1335.5,-261C1335.5,-261 1158.5,-261 1158.5,-261 1152.5,-261 1146.5,-255 1146.5,-249 1146.5,-249 1146.5,-205 1146.5,-205 1146.5,-199 1152.5,-193 1158.5,-193 1158.5,-193 1335.5,-193 1335.5,-193 1341.5,-193 1347.5,-199 1347.5,-205 1347.5,-205 1347.5,-249 1347.5,-249 1347.5,-255 1341.5,-261 1335.5,-261\" fill=\"#f4ccaf\" stroke=\"#000000\"/>\n",
       "<text fill=\"#000000\" font-family=\"Helvetica,sans-Serif\" font-size=\"14.00\" text-anchor=\"middle\" x=\"1247\" y=\"-245.8\">SQRTextra_people &lt;= 2.548</text>\n",
       "<text fill=\"#000000\" font-family=\"Helvetica,sans-Serif\" font-size=\"14.00\" text-anchor=\"middle\" x=\"1247\" y=\"-230.8\">mse = 6.668</text>\n",
       "<text fill=\"#000000\" font-family=\"Helvetica,sans-Serif\" font-size=\"14.00\" text-anchor=\"middle\" x=\"1247\" y=\"-215.8\">samples = 469</text>\n",
       "<text fill=\"#000000\" font-family=\"Helvetica,sans-Serif\" font-size=\"14.00\" text-anchor=\"middle\" x=\"1247\" y=\"-200.8\">value = 10.99</text>\n",
       "</g>\n",
       "<!-- 16&#45;&gt;17 -->\n",
       "<g class=\"edge\" id=\"edge17\">\n",
       "<title>16-&gt;17</title>\n",
       "<path d=\"M1247,-296.9465C1247,-288.776 1247,-279.9318 1247,-271.3697\" fill=\"none\" stroke=\"#000000\"/>\n",
       "<polygon fill=\"#000000\" points=\"1250.5001,-271.13 1247,-261.13 1243.5001,-271.13 1250.5001,-271.13\" stroke=\"#000000\"/>\n",
       "</g>\n",
       "<!-- 24 -->\n",
       "<g class=\"node\" id=\"node25\">\n",
       "<title>24</title>\n",
       "<path d=\"M1702.5,-261C1702.5,-261 1505.5,-261 1505.5,-261 1499.5,-261 1493.5,-255 1493.5,-249 1493.5,-249 1493.5,-205 1493.5,-205 1493.5,-199 1499.5,-193 1505.5,-193 1505.5,-193 1702.5,-193 1702.5,-193 1708.5,-193 1714.5,-199 1714.5,-205 1714.5,-205 1714.5,-249 1714.5,-249 1714.5,-255 1708.5,-261 1702.5,-261\" fill=\"#eeac7d\" stroke=\"#000000\"/>\n",
       "<text fill=\"#000000\" font-family=\"Helvetica,sans-Serif\" font-size=\"14.00\" text-anchor=\"middle\" x=\"1604\" y=\"-245.8\">response_none &lt;= 401691.672</text>\n",
       "<text fill=\"#000000\" font-family=\"Helvetica,sans-Serif\" font-size=\"14.00\" text-anchor=\"middle\" x=\"1604\" y=\"-230.8\">mse = 9.408</text>\n",
       "<text fill=\"#000000\" font-family=\"Helvetica,sans-Serif\" font-size=\"14.00\" text-anchor=\"middle\" x=\"1604\" y=\"-215.8\">samples = 299</text>\n",
       "<text fill=\"#000000\" font-family=\"Helvetica,sans-Serif\" font-size=\"14.00\" text-anchor=\"middle\" x=\"1604\" y=\"-200.8\">value = 13.402</text>\n",
       "</g>\n",
       "<!-- 16&#45;&gt;24 -->\n",
       "<g class=\"edge\" id=\"edge24\">\n",
       "<title>16-&gt;24</title>\n",
       "<path d=\"M1316.2565,-310.8244C1363.6949,-297.0049 1427.8594,-278.3127 1483.5595,-262.0863\" fill=\"none\" stroke=\"#000000\"/>\n",
       "<polygon fill=\"#000000\" points=\"1484.8735,-265.3491 1493.4954,-259.1918 1482.9156,-258.6285 1484.8735,-265.3491\" stroke=\"#000000\"/>\n",
       "</g>\n",
       "<!-- 18 -->\n",
       "<g class=\"node\" id=\"node19\">\n",
       "<title>18</title>\n",
       "<path d=\"M1222,-157C1222,-157 1042,-157 1042,-157 1036,-157 1030,-151 1030,-145 1030,-145 1030,-101 1030,-101 1030,-95 1036,-89 1042,-89 1042,-89 1222,-89 1222,-89 1228,-89 1234,-95 1234,-101 1234,-101 1234,-145 1234,-145 1234,-151 1228,-157 1222,-157\" fill=\"#f2c19d\" stroke=\"#000000\"/>\n",
       "<text fill=\"#000000\" font-family=\"Helvetica,sans-Serif\" font-size=\"14.00\" text-anchor=\"middle\" x=\"1132\" y=\"-141.8\">response_none &lt;= 377550.0</text>\n",
       "<text fill=\"#000000\" font-family=\"Helvetica,sans-Serif\" font-size=\"14.00\" text-anchor=\"middle\" x=\"1132\" y=\"-126.8\">mse = 7.698</text>\n",
       "<text fill=\"#000000\" font-family=\"Helvetica,sans-Serif\" font-size=\"14.00\" text-anchor=\"middle\" x=\"1132\" y=\"-111.8\">samples = 189</text>\n",
       "<text fill=\"#000000\" font-family=\"Helvetica,sans-Serif\" font-size=\"14.00\" text-anchor=\"middle\" x=\"1132\" y=\"-96.8\">value = 11.832</text>\n",
       "</g>\n",
       "<!-- 17&#45;&gt;18 -->\n",
       "<g class=\"edge\" id=\"edge18\">\n",
       "<title>17-&gt;18</title>\n",
       "<path d=\"M1209.3447,-192.9465C1199.1187,-183.6986 1187.9382,-173.5876 1177.3359,-163.9994\" fill=\"none\" stroke=\"#000000\"/>\n",
       "<polygon fill=\"#000000\" points=\"1179.5044,-161.2416 1169.7399,-157.13 1174.8092,-166.4334 1179.5044,-161.2416\" stroke=\"#000000\"/>\n",
       "</g>\n",
       "<!-- 21 -->\n",
       "<g class=\"node\" id=\"node22\">\n",
       "<title>21</title>\n",
       "<path d=\"M1460.5,-157C1460.5,-157 1263.5,-157 1263.5,-157 1257.5,-157 1251.5,-151 1251.5,-145 1251.5,-145 1251.5,-101 1251.5,-101 1251.5,-95 1257.5,-89 1263.5,-89 1263.5,-89 1460.5,-89 1460.5,-89 1466.5,-89 1472.5,-95 1472.5,-101 1472.5,-101 1472.5,-145 1472.5,-145 1472.5,-151 1466.5,-157 1460.5,-157\" fill=\"#f6d3ba\" stroke=\"#000000\"/>\n",
       "<text fill=\"#000000\" font-family=\"Helvetica,sans-Serif\" font-size=\"14.00\" text-anchor=\"middle\" x=\"1362\" y=\"-141.8\">host_total_listings_count &lt;= 2.5</text>\n",
       "<text fill=\"#000000\" font-family=\"Helvetica,sans-Serif\" font-size=\"14.00\" text-anchor=\"middle\" x=\"1362\" y=\"-126.8\">mse = 5.172</text>\n",
       "<text fill=\"#000000\" font-family=\"Helvetica,sans-Serif\" font-size=\"14.00\" text-anchor=\"middle\" x=\"1362\" y=\"-111.8\">samples = 280</text>\n",
       "<text fill=\"#000000\" font-family=\"Helvetica,sans-Serif\" font-size=\"14.00\" text-anchor=\"middle\" x=\"1362\" y=\"-96.8\">value = 10.422</text>\n",
       "</g>\n",
       "<!-- 17&#45;&gt;21 -->\n",
       "<g class=\"edge\" id=\"edge21\">\n",
       "<title>17-&gt;21</title>\n",
       "<path d=\"M1284.6553,-192.9465C1294.8813,-183.6986 1306.0618,-173.5876 1316.6641,-163.9994\" fill=\"none\" stroke=\"#000000\"/>\n",
       "<polygon fill=\"#000000\" points=\"1319.1908,-166.4334 1324.2601,-157.13 1314.4956,-161.2416 1319.1908,-166.4334\" stroke=\"#000000\"/>\n",
       "</g>\n",
       "<!-- 19 -->\n",
       "<g class=\"node\" id=\"node20\">\n",
       "<title>19</title>\n",
       "<path d=\"M1120.5,-53C1120.5,-53 1031.5,-53 1031.5,-53 1025.5,-53 1019.5,-47 1019.5,-41 1019.5,-41 1019.5,-12 1019.5,-12 1019.5,-6 1025.5,0 1031.5,0 1031.5,0 1120.5,0 1120.5,0 1126.5,0 1132.5,-6 1132.5,-12 1132.5,-12 1132.5,-41 1132.5,-41 1132.5,-47 1126.5,-53 1120.5,-53\" fill=\"#f7d7c1\" stroke=\"#000000\"/>\n",
       "<text fill=\"#000000\" font-family=\"Helvetica,sans-Serif\" font-size=\"14.00\" text-anchor=\"middle\" x=\"1076\" y=\"-37.8\">mse = 2.17</text>\n",
       "<text fill=\"#000000\" font-family=\"Helvetica,sans-Serif\" font-size=\"14.00\" text-anchor=\"middle\" x=\"1076\" y=\"-22.8\">samples = 26</text>\n",
       "<text fill=\"#000000\" font-family=\"Helvetica,sans-Serif\" font-size=\"14.00\" text-anchor=\"middle\" x=\"1076\" y=\"-7.8\">value = 10.095</text>\n",
       "</g>\n",
       "<!-- 18&#45;&gt;19 -->\n",
       "<g class=\"edge\" id=\"edge19\">\n",
       "<title>18-&gt;19</title>\n",
       "<path d=\"M1112.2565,-88.9777C1107.2083,-80.2786 1101.7669,-70.9018 1096.6734,-62.1247\" fill=\"none\" stroke=\"#000000\"/>\n",
       "<polygon fill=\"#000000\" points=\"1099.5689,-60.1409 1091.5224,-53.2485 1093.5145,-63.6544 1099.5689,-60.1409\" stroke=\"#000000\"/>\n",
       "</g>\n",
       "<!-- 20 -->\n",
       "<g class=\"node\" id=\"node21\">\n",
       "<title>20</title>\n",
       "<path d=\"M1251.5,-53C1251.5,-53 1162.5,-53 1162.5,-53 1156.5,-53 1150.5,-47 1150.5,-41 1150.5,-41 1150.5,-12 1150.5,-12 1150.5,-6 1156.5,0 1162.5,0 1162.5,0 1251.5,0 1251.5,0 1257.5,0 1263.5,-6 1263.5,-12 1263.5,-12 1263.5,-41 1263.5,-41 1263.5,-47 1257.5,-53 1251.5,-53\" fill=\"#f1bd98\" stroke=\"#000000\"/>\n",
       "<text fill=\"#000000\" font-family=\"Helvetica,sans-Serif\" font-size=\"14.00\" text-anchor=\"middle\" x=\"1207\" y=\"-37.8\">mse = 8.022</text>\n",
       "<text fill=\"#000000\" font-family=\"Helvetica,sans-Serif\" font-size=\"14.00\" text-anchor=\"middle\" x=\"1207\" y=\"-22.8\">samples = 163</text>\n",
       "<text fill=\"#000000\" font-family=\"Helvetica,sans-Serif\" font-size=\"14.00\" text-anchor=\"middle\" x=\"1207\" y=\"-7.8\">value = 12.109</text>\n",
       "</g>\n",
       "<!-- 18&#45;&gt;20 -->\n",
       "<g class=\"edge\" id=\"edge20\">\n",
       "<title>18-&gt;20</title>\n",
       "<path d=\"M1158.4422,-88.9777C1165.4167,-80.0039 1172.9516,-70.3089 1179.9573,-61.295\" fill=\"none\" stroke=\"#000000\"/>\n",
       "<polygon fill=\"#000000\" points=\"1182.8379,-63.292 1186.211,-53.2485 1177.3109,-58.9964 1182.8379,-63.292\" stroke=\"#000000\"/>\n",
       "</g>\n",
       "<!-- 22 -->\n",
       "<g class=\"node\" id=\"node23\">\n",
       "<title>22</title>\n",
       "<path d=\"M1382,-53C1382,-53 1294,-53 1294,-53 1288,-53 1282,-47 1282,-41 1282,-41 1282,-12 1282,-12 1282,-6 1288,0 1294,0 1294,0 1382,0 1382,0 1388,0 1394,-6 1394,-12 1394,-12 1394,-41 1394,-41 1394,-47 1388,-53 1382,-53\" fill=\"#f8decb\" stroke=\"#000000\"/>\n",
       "<text fill=\"#000000\" font-family=\"Helvetica,sans-Serif\" font-size=\"14.00\" text-anchor=\"middle\" x=\"1338\" y=\"-37.8\">mse = 5.331</text>\n",
       "<text fill=\"#000000\" font-family=\"Helvetica,sans-Serif\" font-size=\"14.00\" text-anchor=\"middle\" x=\"1338\" y=\"-22.8\">samples = 137</text>\n",
       "<text fill=\"#000000\" font-family=\"Helvetica,sans-Serif\" font-size=\"14.00\" text-anchor=\"middle\" x=\"1338\" y=\"-7.8\">value = 9.614</text>\n",
       "</g>\n",
       "<!-- 21&#45;&gt;22 -->\n",
       "<g class=\"edge\" id=\"edge22\">\n",
       "<title>21-&gt;22</title>\n",
       "<path d=\"M1353.5385,-88.9777C1351.4433,-80.5533 1349.1901,-71.4934 1347.0673,-62.9579\" fill=\"none\" stroke=\"#000000\"/>\n",
       "<polygon fill=\"#000000\" points=\"1350.4626,-62.1081 1344.6525,-53.2485 1343.6695,-63.7976 1350.4626,-62.1081\" stroke=\"#000000\"/>\n",
       "</g>\n",
       "<!-- 23 -->\n",
       "<g class=\"node\" id=\"node24\">\n",
       "<title>23</title>\n",
       "<path d=\"M1513.5,-53C1513.5,-53 1424.5,-53 1424.5,-53 1418.5,-53 1412.5,-47 1412.5,-41 1412.5,-41 1412.5,-12 1412.5,-12 1412.5,-6 1418.5,0 1424.5,0 1424.5,0 1513.5,0 1513.5,0 1519.5,0 1525.5,-6 1525.5,-12 1525.5,-12 1525.5,-41 1525.5,-41 1525.5,-47 1519.5,-53 1513.5,-53\" fill=\"#f4c9aa\" stroke=\"#000000\"/>\n",
       "<text fill=\"#000000\" font-family=\"Helvetica,sans-Serif\" font-size=\"14.00\" text-anchor=\"middle\" x=\"1469\" y=\"-37.8\">mse = 3.795</text>\n",
       "<text fill=\"#000000\" font-family=\"Helvetica,sans-Serif\" font-size=\"14.00\" text-anchor=\"middle\" x=\"1469\" y=\"-22.8\">samples = 143</text>\n",
       "<text fill=\"#000000\" font-family=\"Helvetica,sans-Serif\" font-size=\"14.00\" text-anchor=\"middle\" x=\"1469\" y=\"-7.8\">value = 11.196</text>\n",
       "</g>\n",
       "<!-- 21&#45;&gt;23 -->\n",
       "<g class=\"edge\" id=\"edge23\">\n",
       "<title>21-&gt;23</title>\n",
       "<path d=\"M1399.7242,-88.9777C1410.0806,-79.6376 1421.3031,-69.5163 1431.639,-60.1947\" fill=\"none\" stroke=\"#000000\"/>\n",
       "<polygon fill=\"#000000\" points=\"1434.2591,-62.5449 1439.3411,-53.2485 1429.5709,-57.3467 1434.2591,-62.5449\" stroke=\"#000000\"/>\n",
       "</g>\n",
       "<!-- 25 -->\n",
       "<g class=\"node\" id=\"node26\">\n",
       "<title>25</title>\n",
       "<path d=\"M1705.5,-157C1705.5,-157 1502.5,-157 1502.5,-157 1496.5,-157 1490.5,-151 1490.5,-145 1490.5,-145 1490.5,-101 1490.5,-101 1490.5,-95 1496.5,-89 1502.5,-89 1502.5,-89 1705.5,-89 1705.5,-89 1711.5,-89 1717.5,-95 1717.5,-101 1717.5,-101 1717.5,-145 1717.5,-145 1717.5,-151 1711.5,-157 1705.5,-157\" fill=\"#f1ba92\" stroke=\"#000000\"/>\n",
       "<text fill=\"#000000\" font-family=\"Helvetica,sans-Serif\" font-size=\"14.00\" text-anchor=\"middle\" x=\"1604\" y=\"-141.8\">distance_to_downtown &lt;= 456.5</text>\n",
       "<text fill=\"#000000\" font-family=\"Helvetica,sans-Serif\" font-size=\"14.00\" text-anchor=\"middle\" x=\"1604\" y=\"-126.8\">mse = 7.853</text>\n",
       "<text fill=\"#000000\" font-family=\"Helvetica,sans-Serif\" font-size=\"14.00\" text-anchor=\"middle\" x=\"1604\" y=\"-111.8\">samples = 102</text>\n",
       "<text fill=\"#000000\" font-family=\"Helvetica,sans-Serif\" font-size=\"14.00\" text-anchor=\"middle\" x=\"1604\" y=\"-96.8\">value = 12.364</text>\n",
       "</g>\n",
       "<!-- 24&#45;&gt;25 -->\n",
       "<g class=\"edge\" id=\"edge25\">\n",
       "<title>24-&gt;25</title>\n",
       "<path d=\"M1604,-192.9465C1604,-184.776 1604,-175.9318 1604,-167.3697\" fill=\"none\" stroke=\"#000000\"/>\n",
       "<polygon fill=\"#000000\" points=\"1607.5001,-167.13 1604,-157.13 1600.5001,-167.13 1607.5001,-167.13\" stroke=\"#000000\"/>\n",
       "</g>\n",
       "<!-- 28 -->\n",
       "<g class=\"node\" id=\"node29\">\n",
       "<title>28</title>\n",
       "<path d=\"M1913,-157C1913,-157 1811,-157 1811,-157 1805,-157 1799,-151 1799,-145 1799,-145 1799,-101 1799,-101 1799,-95 1805,-89 1811,-89 1811,-89 1913,-89 1913,-89 1919,-89 1925,-95 1925,-101 1925,-101 1925,-145 1925,-145 1925,-151 1919,-157 1913,-157\" fill=\"#eca572\" stroke=\"#000000\"/>\n",
       "<text fill=\"#000000\" font-family=\"Helvetica,sans-Serif\" font-size=\"14.00\" text-anchor=\"middle\" x=\"1862\" y=\"-141.8\">bedrooms &lt;= 4.5</text>\n",
       "<text fill=\"#000000\" font-family=\"Helvetica,sans-Serif\" font-size=\"14.00\" text-anchor=\"middle\" x=\"1862\" y=\"-126.8\">mse = 9.365</text>\n",
       "<text fill=\"#000000\" font-family=\"Helvetica,sans-Serif\" font-size=\"14.00\" text-anchor=\"middle\" x=\"1862\" y=\"-111.8\">samples = 197</text>\n",
       "<text fill=\"#000000\" font-family=\"Helvetica,sans-Serif\" font-size=\"14.00\" text-anchor=\"middle\" x=\"1862\" y=\"-96.8\">value = 13.94</text>\n",
       "</g>\n",
       "<!-- 24&#45;&gt;28 -->\n",
       "<g class=\"edge\" id=\"edge28\">\n",
       "<title>24-&gt;28</title>\n",
       "<path d=\"M1688.4788,-192.9465C1720.9755,-179.8471 1757.7684,-165.0158 1789.0853,-152.392\" fill=\"none\" stroke=\"#000000\"/>\n",
       "<polygon fill=\"#000000\" points=\"1790.6514,-155.5344 1798.6177,-148.5495 1788.0343,-149.042 1790.6514,-155.5344\" stroke=\"#000000\"/>\n",
       "</g>\n",
       "<!-- 26 -->\n",
       "<g class=\"node\" id=\"node27\">\n",
       "<title>26</title>\n",
       "<path d=\"M1644.5,-53C1644.5,-53 1555.5,-53 1555.5,-53 1549.5,-53 1543.5,-47 1543.5,-41 1543.5,-41 1543.5,-12 1543.5,-12 1543.5,-6 1549.5,0 1555.5,0 1555.5,0 1644.5,0 1644.5,0 1650.5,0 1656.5,-6 1656.5,-12 1656.5,-12 1656.5,-41 1656.5,-41 1656.5,-47 1650.5,-53 1644.5,-53\" fill=\"#f2bf9a\" stroke=\"#000000\"/>\n",
       "<text fill=\"#000000\" font-family=\"Helvetica,sans-Serif\" font-size=\"14.00\" text-anchor=\"middle\" x=\"1600\" y=\"-37.8\">mse = 7.132</text>\n",
       "<text fill=\"#000000\" font-family=\"Helvetica,sans-Serif\" font-size=\"14.00\" text-anchor=\"middle\" x=\"1600\" y=\"-22.8\">samples = 87</text>\n",
       "<text fill=\"#000000\" font-family=\"Helvetica,sans-Serif\" font-size=\"14.00\" text-anchor=\"middle\" x=\"1600\" y=\"-7.8\">value = 11.968</text>\n",
       "</g>\n",
       "<!-- 25&#45;&gt;26 -->\n",
       "<g class=\"edge\" id=\"edge26\">\n",
       "<title>25-&gt;26</title>\n",
       "<path d=\"M1602.5897,-88.9777C1602.2481,-80.7364 1601.8813,-71.887 1601.5343,-63.5153\" fill=\"none\" stroke=\"#000000\"/>\n",
       "<polygon fill=\"#000000\" points=\"1605.02,-63.0949 1601.1087,-53.2485 1598.026,-63.3849 1605.02,-63.0949\" stroke=\"#000000\"/>\n",
       "</g>\n",
       "<!-- 27 -->\n",
       "<g class=\"node\" id=\"node28\">\n",
       "<title>27</title>\n",
       "<path d=\"M1775.5,-53C1775.5,-53 1686.5,-53 1686.5,-53 1680.5,-53 1674.5,-47 1674.5,-41 1674.5,-41 1674.5,-12 1674.5,-12 1674.5,-6 1680.5,0 1686.5,0 1686.5,0 1775.5,0 1775.5,0 1781.5,0 1787.5,-6 1787.5,-12 1787.5,-12 1787.5,-41 1787.5,-41 1787.5,-47 1781.5,-53 1775.5,-53\" fill=\"#eb9c63\" stroke=\"#000000\"/>\n",
       "<text fill=\"#000000\" font-family=\"Helvetica,sans-Serif\" font-size=\"14.00\" text-anchor=\"middle\" x=\"1731\" y=\"-37.8\">mse = 5.865</text>\n",
       "<text fill=\"#000000\" font-family=\"Helvetica,sans-Serif\" font-size=\"14.00\" text-anchor=\"middle\" x=\"1731\" y=\"-22.8\">samples = 15</text>\n",
       "<text fill=\"#000000\" font-family=\"Helvetica,sans-Serif\" font-size=\"14.00\" text-anchor=\"middle\" x=\"1731\" y=\"-7.8\">value = 14.658</text>\n",
       "</g>\n",
       "<!-- 25&#45;&gt;27 -->\n",
       "<g class=\"edge\" id=\"edge27\">\n",
       "<title>25-&gt;27</title>\n",
       "<path d=\"M1648.7754,-88.9777C1661.4292,-79.3629 1675.1723,-68.9203 1687.7353,-59.3743\" fill=\"none\" stroke=\"#000000\"/>\n",
       "<polygon fill=\"#000000\" points=\"1689.9526,-62.0853 1695.7973,-53.2485 1685.7176,-56.5118 1689.9526,-62.0853\" stroke=\"#000000\"/>\n",
       "</g>\n",
       "<!-- 29 -->\n",
       "<g class=\"node\" id=\"node30\">\n",
       "<title>29</title>\n",
       "<path d=\"M1906.5,-53C1906.5,-53 1817.5,-53 1817.5,-53 1811.5,-53 1805.5,-47 1805.5,-41 1805.5,-41 1805.5,-12 1805.5,-12 1805.5,-6 1811.5,0 1817.5,0 1817.5,0 1906.5,0 1906.5,0 1912.5,0 1918.5,-6 1918.5,-12 1918.5,-12 1918.5,-41 1918.5,-41 1918.5,-47 1912.5,-53 1906.5,-53\" fill=\"#eda978\" stroke=\"#000000\"/>\n",
       "<text fill=\"#000000\" font-family=\"Helvetica,sans-Serif\" font-size=\"14.00\" text-anchor=\"middle\" x=\"1862\" y=\"-37.8\">mse = 8.981</text>\n",
       "<text fill=\"#000000\" font-family=\"Helvetica,sans-Serif\" font-size=\"14.00\" text-anchor=\"middle\" x=\"1862\" y=\"-22.8\">samples = 175</text>\n",
       "<text fill=\"#000000\" font-family=\"Helvetica,sans-Serif\" font-size=\"14.00\" text-anchor=\"middle\" x=\"1862\" y=\"-7.8\">value = 13.638</text>\n",
       "</g>\n",
       "<!-- 28&#45;&gt;29 -->\n",
       "<g class=\"edge\" id=\"edge29\">\n",
       "<title>28-&gt;29</title>\n",
       "<path d=\"M1862,-88.9777C1862,-80.7364 1862,-71.887 1862,-63.5153\" fill=\"none\" stroke=\"#000000\"/>\n",
       "<polygon fill=\"#000000\" points=\"1865.5001,-63.2484 1862,-53.2485 1858.5001,-63.2485 1865.5001,-63.2484\" stroke=\"#000000\"/>\n",
       "</g>\n",
       "<!-- 30 -->\n",
       "<g class=\"node\" id=\"node31\">\n",
       "<title>30</title>\n",
       "<path d=\"M2037.5,-53C2037.5,-53 1948.5,-53 1948.5,-53 1942.5,-53 1936.5,-47 1936.5,-41 1936.5,-41 1936.5,-12 1936.5,-12 1936.5,-6 1942.5,0 1948.5,0 1948.5,0 2037.5,0 2037.5,0 2043.5,0 2049.5,-6 2049.5,-12 2049.5,-12 2049.5,-41 2049.5,-41 2049.5,-47 2043.5,-53 2037.5,-53\" fill=\"#e68641\" stroke=\"#000000\"/>\n",
       "<text fill=\"#000000\" font-family=\"Helvetica,sans-Serif\" font-size=\"14.00\" text-anchor=\"middle\" x=\"1993\" y=\"-37.8\">mse = 5.939</text>\n",
       "<text fill=\"#000000\" font-family=\"Helvetica,sans-Serif\" font-size=\"14.00\" text-anchor=\"middle\" x=\"1993\" y=\"-22.8\">samples = 22</text>\n",
       "<text fill=\"#000000\" font-family=\"Helvetica,sans-Serif\" font-size=\"14.00\" text-anchor=\"middle\" x=\"1993\" y=\"-7.8\">value = 16.339</text>\n",
       "</g>\n",
       "<!-- 28&#45;&gt;30 -->\n",
       "<g class=\"edge\" id=\"edge30\">\n",
       "<title>28-&gt;30</title>\n",
       "<path d=\"M1908.1857,-88.9777C1921.2379,-79.3629 1935.4139,-68.9203 1948.3727,-59.3743\" fill=\"none\" stroke=\"#000000\"/>\n",
       "<polygon fill=\"#000000\" points=\"1950.7131,-61.9974 1956.6886,-53.2485 1946.5614,-56.3615 1950.7131,-61.9974\" stroke=\"#000000\"/>\n",
       "</g>\n",
       "</g>\n",
       "</svg>"
      ],
      "text/plain": [
       "<IPython.core.display.SVG object>"
      ]
     },
     "execution_count": 40,
     "metadata": {
      "tags": []
     },
     "output_type": "execute_result"
    }
   ],
   "source": [
    "from sklearn.tree import DecisionTreeRegressor\n",
    "from sklearn.tree import export_graphviz\n",
    "from subprocess import call\n",
    "from IPython.display import SVG\n",
    "from graphviz import Source\n",
    "\n",
    "# Train the CART model\n",
    "cart_model = DecisionTreeRegressor(random_state=1,max_depth=4\n",
    "                                   )\n",
    "cart_model.fit(X_train, y_train)\n",
    "train_score = cart_model.score(X_train, y_train)\n",
    "test_score = cart_model.score(X_test, y_test)\n",
    "\n",
    "# Print out summary of model performance \n",
    "print('The score of this model over training data is {:.3f} and {:.3f} over the testing data'.format(train_score, test_score))\n",
    "\n",
    "# Visualize the decision tree\n",
    "cart_graph = Source(export_graphviz(cart_model,\n",
    "                   feature_names = X_new7.columns[1:],\n",
    "                   rounded = True, proportion = False, \n",
    "                  filled = True))\n",
    "SVG(cart_graph.pipe(format='svg'))"
   ]
  }
 ],
 "metadata": {
  "colab": {
   "collapsed_sections": [],
   "name": "BasicModel.ipynb",
   "provenance": []
  },
  "kernelspec": {
   "display_name": "Python 3",
   "language": "python",
   "name": "python3"
  },
  "language_info": {
   "codemirror_mode": {
    "name": "ipython",
    "version": 3
   },
   "file_extension": ".py",
   "mimetype": "text/x-python",
   "name": "python",
   "nbconvert_exporter": "python",
   "pygments_lexer": "ipython3",
   "version": "3.8.3"
  }
 },
 "nbformat": 4,
 "nbformat_minor": 1
}
