{
 "cells": [
  {
   "cell_type": "markdown",
   "metadata": {},
   "source": [
    "## Import & Data Loading "
   ]
  },
  {
   "cell_type": "code",
   "execution_count": null,
   "metadata": {
    "colab": {
     "base_uri": "https://localhost:8080/",
     "height": 124
    },
    "id": "go_3KLqSZck7",
    "outputId": "26e1df4e-1310-4816-d90f-b4f31814eb54"
   },
   "outputs": [
    {
     "name": "stdout",
     "output_type": "stream",
     "text": [
      "Go to this URL in a browser: https://accounts.google.com/o/oauth2/auth?client_id=947318989803-6bn6qk8qdgf4n4g3pfee6491hc0brc4i.apps.googleusercontent.com&redirect_uri=urn%3aietf%3awg%3aoauth%3a2.0%3aoob&response_type=code&scope=email%20https%3a%2f%2fwww.googleapis.com%2fauth%2fdocs.test%20https%3a%2f%2fwww.googleapis.com%2fauth%2fdrive%20https%3a%2f%2fwww.googleapis.com%2fauth%2fdrive.photos.readonly%20https%3a%2f%2fwww.googleapis.com%2fauth%2fpeopleapi.readonly\n",
      "\n",
      "Enter your authorization code:\n",
      "··········\n",
      "Mounted at /content/drive\n"
     ]
    }
   ],
   "source": [
    "import matplotlib\n",
    "import matplotlib.pyplot as plt\n",
    "import numpy as np\n",
    "import pandas as pd\n",
    "import seaborn as sns\n",
    "from sklearn.preprocessing import Imputer\n",
    "from sklearn.linear_model import LogisticRegression\n",
    "from sklearn.ensemble import RandomForestRegressor\n",
    "from sklearn.model_selection import train_test_split\n",
    "from google.colab import drive\n",
    "drive.mount('/content/drive')\n",
    "data_dir = '/content/drive/My Drive/MIE368_Project/Data'"
   ]
  },
  {
   "cell_type": "code",
   "execution_count": null,
   "metadata": {
    "id": "7F7ZzCv3ZkGF"
   },
   "outputs": [],
   "source": [
    "listings_raw = pd.read_csv(\"{}/O_listings.csv\".format(data_dir))\n",
    "houseprice_raw = pd.read_csv(\"{}/properties.csv\".format(data_dir))\n",
    "distance_to_downtown = pd.read_csv(\"{}/distance_to_dt.csv\".format(data_dir), header=None)\n",
    "num_airbnb_nearby = pd.read_csv(\"{}/num_airbnb_nearby.csv\".format(data_dir), header=None)\n",
    "tone = pd.read_csv(\"{}/final_tone.csv\".format(data_dir), header=None)\n",
    "avg = pd.read_csv(\"{}/aveprice.csv\".format(data_dir), header=None)\n",
    "listings_raw = listings_raw.drop(columns=['room_type','id','listing_url','scrape_id','last_scraped','summary','space','experiences_offered','neighborhood_overview','notes','access','interaction','thumbnail_url','medium_url','picture_url','xl_picture_url','host_id','host_url','host_name','host_since','host_response_rate','host_acceptance_rate','host_thumbnail_url','host_picture_url','host_neighbourhood','host_listings_count','host_has_profile_pic','host_identity_verified','street','neighbourhood','neighbourhood_group_cleansed','city','state','zipcode','market','smart_location','country_code','country','is_location_exact','accommodates','beds','bed_type','square_feet','minimum_nights','maximum_nights','minimum_minimum_nights','maximum_minimum_nights','minimum_maximum_nights','maximum_maximum_nights','calendar_updated','has_availability','availability_30','availability_60','availability_90','availability_365','calendar_last_scraped','number_of_reviews','number_of_reviews_ltm','first_review','last_review','review_scores_rating','review_scores_accuracy','review_scores_cleanliness','review_scores_checkin','review_scores_communication','review_scores_location','review_scores_value','requires_license','license','jurisdiction_names','is_business_travel_ready','calculated_host_listings_count','calculated_host_listings_count_entire_homes','calculated_host_listings_count_private_rooms','calculated_host_listings_count_shared_rooms','reviews_per_month','host_location','host_verifications','neighbourhood_cleansed'])\n",
    "X_aftercleaning = pd.read_csv(\"{}/X_aftercleaning.csv\".format(data_dir))\n",
    "X_afterfeatureeng = pd.read_csv(\"{}/X_afterfeatureeng.csv\".format(data_dir))\n",
    "\n"
   ]
  },
  {
   "cell_type": "code",
   "execution_count": null,
   "metadata": {
    "colab": {
     "base_uri": "https://localhost:8080/",
     "height": 191
    },
    "id": "UNwb_HbUZqQs",
    "outputId": "149e58a4-4d4b-446b-f043-0e365c9a98a8"
   },
   "outputs": [
    {
     "name": "stderr",
     "output_type": "stream",
     "text": [
      "/usr/local/lib/python3.6/dist-packages/ipykernel_launcher.py:4: SettingWithCopyWarning: \n",
      "A value is trying to be set on a copy of a slice from a DataFrame\n",
      "\n",
      "See the caveats in the documentation: http://pandas.pydata.org/pandas-docs/stable/user_guide/indexing.html#returning-a-view-versus-a-copy\n",
      "  after removing the cwd from sys.path.\n",
      "/usr/local/lib/python3.6/dist-packages/ipykernel_launcher.py:5: SettingWithCopyWarning: \n",
      "A value is trying to be set on a copy of a slice from a DataFrame\n",
      "\n",
      "See the caveats in the documentation: http://pandas.pydata.org/pandas-docs/stable/user_guide/indexing.html#returning-a-view-versus-a-copy\n",
      "  \"\"\"\n"
     ]
    }
   ],
   "source": [
    "df_dropPriceNa = listings_raw.loc[listings_raw['price']!= 'NaN']\n",
    "y_price = df_dropPriceNa.price\n",
    "for i in range(0,3268):\n",
    "  y_price[i] = y_price[i].replace('$','')\n",
    "  y_price[i] = y_price[i].replace(',','')\n",
    "y_price = y_price.astype(float)\n",
    "listings_raw.drop(columns='price')\n",
    "listings_raw['price'] = y_price\n",
    "listings_raw.price\n",
    "listings_raw = listings_raw.drop(listings_raw[listings_raw['price'] >= 557].index)\n",
    "listings_raw.reset_index(drop=True, inplace=True)\n",
    "X_afterfeatureeng.reset_index(drop=True, inplace=True)"
   ]
  },
  {
   "cell_type": "code",
   "execution_count": null,
   "metadata": {
    "id": "axabP8DWcZZT"
   },
   "outputs": [],
   "source": [
    "X_afterfeatureeng['price'] = listings_raw.price"
   ]
  },
  {
   "cell_type": "code",
   "execution_count": null,
   "metadata": {
    "colab": {
     "base_uri": "https://localhost:8080/",
     "height": 173
    },
    "id": "8XX28eA1cX3s",
    "outputId": "438cb4c0-5bb7-4d42-d8f6-054703968962"
   },
   "outputs": [
    {
     "data": {
      "text/plain": [
       "count    3235.000000\n",
       "mean      102.188253\n",
       "std        72.095944\n",
       "min         0.000000\n",
       "25%        50.000000\n",
       "50%        86.000000\n",
       "75%       125.000000\n",
       "max       550.000000\n",
       "Name: price, dtype: float64"
      ]
     },
     "execution_count": 6,
     "metadata": {
      "tags": []
     },
     "output_type": "execute_result"
    }
   ],
   "source": [
    "X_afterfeatureeng.price.describe()"
   ]
  },
  {
   "cell_type": "code",
   "execution_count": null,
   "metadata": {
    "colab": {
     "base_uri": "https://localhost:8080/",
     "height": 35
    },
    "id": "2inh0VF9Zw_0",
    "outputId": "6725f6ab-b5e4-4f1a-ebd0-c844dc9cc513",
    "scrolled": true
   },
   "outputs": [
    {
     "data": {
      "text/plain": [
       "0"
      ]
     },
     "execution_count": 7,
     "metadata": {
      "tags": []
     },
     "output_type": "execute_result"
    }
   ],
   "source": [
    "X_afterfeatureeng.isna().sum().sum()"
   ]
  },
  {
   "cell_type": "markdown",
   "metadata": {},
   "source": [
    "## Data Transformation & New Features"
   ]
  },
  {
   "cell_type": "code",
   "execution_count": null,
   "metadata": {
    "id": "-MARVzLsaqOs"
   },
   "outputs": [],
   "source": [
    "def monotone_transform(X):\n",
    "    X_new = X.copy()\n",
    "    X_new['SQRTextra_people'] = np.sqrt(X_new['extra_people'])\n",
    "    X_new['SQRTdistance_to_downtown'] = np.sqrt(X_new['distance_to_downtown'])\n",
    "    \n",
    "    return X_new"
   ]
  },
  {
   "cell_type": "code",
   "execution_count": null,
   "metadata": {
    "id": "3bAR3FnsamcY"
   },
   "outputs": [],
   "source": [
    "def new_feature_combos1(X):\n",
    "   \n",
    "  # First, we apply the monotone transform function\n",
    "  X_new = monotone_transform(X)\n",
    "    \n",
    "    \n",
    "  # Then we add new features\n",
    "  X_new['Freeparkingonpremises_*_distance_to_downtown'] = X_new.Freeparkingonpremises*X_new.distance_to_downtown #has positive correlation with price\n",
    "  X_new['Apartment+bathrooms'] =  X_new.Apartment + X_new.bathrooms\n",
    "  X_new['Apartment+bedrooms'] =  X_new.Apartment + X_new.bedrooms\n",
    "  X_new['bathrooms**Shampoo'] = X_new.bathrooms ** X_new.Shampoo\n",
    "\n",
    "  X_new = X_new.drop(columns = 'extra_people')\n",
    "\n",
    "    # X_new = X_new.drop(columns = [\"Freeparkingonpremises\",'distance_to_downtown'] )\n",
    "\n",
    "  return X_new"
   ]
  },
  {
   "cell_type": "code",
   "execution_count": null,
   "metadata": {},
   "outputs": [],
   "source": [
    "X_new7 = X_afterfeatureeng.copy()\n",
    "cols = ['no_alcohol','length_name', 'length_host','minimum_nights_avg_ntm','guests_included','extra_people','host_total_listings_count','Freeparkingonpremises','Heating', 'Hotwater', 'Shampoo','Coffeemaker', 'Microwave','super_strict_30', 'strict_14_with_grace_period',\n",
    "       'moderate', 'flexible',  'num_airbnb_nearby', 'avgpropertyprice','response_none', 'withinanhour', 'withinafewhours', 'withinaday',\n",
    "       'afewdaysormore','Agreeableness', 'Analytical', 'Anger',\n",
    "       'Confident', 'Conscientiousness', 'Disgust', 'Emotional Range',\n",
    "       'Extraversion', 'Joy', 'Openness', 'Sadness', 'Tentative','price','Apartment', 'House', 'Nature', 'Property_type_others', 'Vacation','Wild', 'Longtermstaysallowed','Family/kidfriendly', 'Airconditioning', 'Wifi','bathrooms', 'bedrooms','instant_bookable','distance_to_downtown','bus']\n",
    "X_new7 = X_new7[cols]\n",
    "y_price_new = X_afterfeatureeng['price'].copy()\n",
    "y_price_new = np.sqrt(y_price_new)\n",
    "X_new7.price = y_price_new\n",
    "X_new7 = new_feature_combos1(X_new7)"
   ]
  },
  {
   "cell_type": "markdown",
   "metadata": {},
   "source": [
    "## Final Linear Regression Model \n",
    "\n",
    "The train score is 0.5037681100076767 and the test score is 0.4592038794677354"
   ]
  },
  {
   "cell_type": "code",
   "execution_count": null,
   "metadata": {
    "colab": {
     "base_uri": "https://localhost:8080/",
     "height": 1000
    },
    "id": "rMOVvP8kZ5UU",
    "outputId": "b8d88510-1882-4b6d-d36b-1bcf564964d0"
   },
   "outputs": [
    {
     "name": "stdout",
     "output_type": "stream",
     "text": [
      "The train score is 0.5037681100076767 and the test score is 0.4592038794677354\n",
      "no_alcohol                                     -1.633637e+00\n",
      "length_name                                    -6.050393e-02\n",
      "length_host                                    -3.497904e-03\n",
      "minimum_nights_avg_ntm                         -6.818441e-03\n",
      "guests_included                                 2.029261e-01\n",
      "host_total_listings_count                       6.027972e-03\n",
      "Freeparkingonpremises                           2.569960e-01\n",
      "Heating                                        -6.609343e-01\n",
      "Hotwater                                       -4.478586e-01\n",
      "Shampoo                                         4.451760e-01\n",
      "Coffeemaker                                     5.009502e-01\n",
      "Microwave                                      -5.214012e-01\n",
      "super_strict_30                                -4.107825e-14\n",
      "strict_14_with_grace_period                     7.800545e-02\n",
      "moderate                                        5.661860e-04\n",
      "flexible                                       -7.857164e-02\n",
      "num_airbnb_nearby                               7.121633e-05\n",
      "avgpropertyprice                                3.101900e-07\n",
      "response_none                                   6.191653e-01\n",
      "withinanhour                                   -5.652365e-01\n",
      "withinafewhours                                -4.675509e-01\n",
      "withinaday                                     -3.936727e-01\n",
      "afewdaysormore                                  8.072948e-01\n",
      "Agreeableness                                  -6.320923e-01\n",
      "Analytical                                      4.049932e-01\n",
      "Anger                                           5.717599e-01\n",
      "Confident                                      -8.767949e-01\n",
      "Conscientiousness                               1.559561e-01\n",
      "Disgust                                         0.000000e+00\n",
      "Emotional Range                                -6.567918e-01\n",
      "Extraversion                                   -4.735327e-01\n",
      "Joy                                            -3.742987e-01\n",
      "Openness                                       -2.626627e-01\n",
      "Sadness                                        -9.598668e-01\n",
      "Tentative                                      -2.751816e-01\n",
      "Apartment                                      -9.432389e-01\n",
      "House                                          -2.586178e+00\n",
      "Nature                                          3.836976e+00\n",
      "Property_type_others                           -1.283100e+00\n",
      "Vacation                                       -7.962360e-01\n",
      "Wild                                            1.771777e+00\n",
      "Longtermstaysallowed                            1.116300e-01\n",
      "Family/kidfriendly                              4.047422e-01\n",
      "Airconditioning                                 7.612124e-01\n",
      "Wifi                                           -7.790451e-01\n",
      "bathrooms                                       4.297850e-01\n",
      "bedrooms                                        1.174814e+00\n",
      "instant_bookable                               -2.901710e-01\n",
      "distance_to_downtown                            3.642689e-03\n",
      "bus                                            -2.117409e-01\n",
      "SQRTextra_people                               -1.321173e-01\n",
      "SQRTdistance_to_downtown                       -5.340437e-02\n",
      "Freeparkingonpremises_*_distance_to_downtown    6.471365e-04\n",
      "Apartment+bathrooms                            -5.134539e-01\n",
      "Apartment+bedrooms                              2.315752e-01\n",
      "bathrooms**Shampoo                              8.440247e-01\n",
      "Intercept                                       9.958583e+00\n",
      "dtype: float64\n"
     ]
    }
   ],
   "source": [
    "from sklearn.model_selection import train_test_split\n",
    "X_train, X_test, y_train, y_test = train_test_split(X_new7.drop('price',1), X_new7['price'], test_size=0.30, random_state=5)\n",
    "from sklearn.linear_model import LinearRegression, LassoCV, RidgeCV\n",
    "from sklearn.metrics import precision_score, recall_score\n",
    "\n",
    "linreg = LinearRegression()\n",
    "linreg.fit(X_train, y_train)\n",
    "\n",
    "train_score = linreg.score(X_train, y_train)\n",
    "test_score = linreg.score(X_test, y_test)\n",
    "\n",
    "print('The train score is {} and the test score is {}'.format(train_score, test_score))\n",
    "\n",
    "betas = pd.Series(linreg.coef_, index=X_train.columns)\n",
    "betas = betas.append(pd.Series({\"Intercept\": linreg.intercept_}))\n",
    "print(betas)"
   ]
  },
  {
   "cell_type": "code",
   "execution_count": null,
   "metadata": {
    "colab": {
     "base_uri": "https://localhost:8080/",
     "height": 34
    },
    "id": "2SRnagRliczJ",
    "outputId": "def2f02a-1323-4764-9e8e-854f89a13fcd"
   },
   "outputs": [
    {
     "data": {
      "text/plain": [
       "634.9213487052182"
      ]
     },
     "execution_count": 36,
     "metadata": {
      "tags": []
     },
     "output_type": "execute_result"
    }
   ],
   "source": [
    "y=linreg.predict(X_test)**2\n",
    "max(y)\n"
   ]
  },
  {
   "cell_type": "code",
   "execution_count": null,
   "metadata": {
    "colab": {
     "base_uri": "https://localhost:8080/",
     "height": 281
    },
    "id": "jNbLrraDCaRU",
    "outputId": "9167422c-7968-48a7-9846-d01ee39e6466"
   },
   "outputs": [
    {
     "data": {
      "image/png": "[encoded data removed]",
      "text/plain": [
       "<Figure size 432x288 with 1 Axes>"
      ]
     },
     "metadata": {
      "tags": []
     },
     "output_type": "display_data"
    }
   ],
   "source": [
    "bins= np.linspace(0, 500, 18)\n",
    "plt.hist([linreg.predict(X_test)**2, y_test**2],bins,  label=['predicted', 'actual'])\n",
    "plt.legend(loc='upper right')\n",
    "plt.title(\"Linear Regression Prediction vs. Actual Price\")\n",
    "plt.show()\n"
   ]
  },
  {
   "cell_type": "markdown",
   "metadata": {},
   "source": [
    "## Final Random Forest Model\n",
    "\n",
    "The train score is 0.615691012502942 and the test score is 0.4964880599782881"
   ]
  },
  {
   "cell_type": "code",
   "execution_count": null,
   "metadata": {
    "colab": {
     "base_uri": "https://localhost:8080/",
     "height": 1000
    },
    "id": "mBmzFc_RbJgb",
    "outputId": "77e91b52-aabf-4e48-8dc6-ff5a200ea376"
   },
   "outputs": [
    {
     "name": "stdout",
     "output_type": "stream",
     "text": [
      "The train score is 0.615691012502942 and the test score is 0.4964880599782881\n",
      "no_alcohol                                      0.000003\n",
      "length_name                                     0.012028\n",
      "length_host                                     0.013787\n",
      "minimum_nights_avg_ntm                          0.014804\n",
      "guests_included                                 0.022431\n",
      "host_total_listings_count                       0.012178\n",
      "Freeparkingonpremises                           0.001096\n",
      "Heating                                         0.001108\n",
      "Hotwater                                        0.005832\n",
      "Shampoo                                         0.001499\n",
      "Coffeemaker                                     0.002647\n",
      "Microwave                                       0.004333\n",
      "super_strict_30                                 0.000000\n",
      "strict_14_with_grace_period                     0.003230\n",
      "moderate                                        0.002157\n",
      "flexible                                        0.002488\n",
      "num_airbnb_nearby                               0.018133\n",
      "avgpropertyprice                                0.037897\n",
      "response_none                                   0.010444\n",
      "withinanhour                                    0.005784\n",
      "withinafewhours                                 0.001369\n",
      "withinaday                                      0.000224\n",
      "afewdaysormore                                  0.001525\n",
      "Agreeableness                                   0.000244\n",
      "Analytical                                      0.000000\n",
      "Anger                                           0.000000\n",
      "Confident                                       0.000028\n",
      "Conscientiousness                               0.000136\n",
      "Disgust                                         0.000000\n",
      "Emotional Range                                 0.000272\n",
      "Extraversion                                    0.003346\n",
      "Joy                                             0.000160\n",
      "Openness                                        0.000000\n",
      "Sadness                                         0.000000\n",
      "Tentative                                       0.000073\n",
      "Apartment                                       0.018395\n",
      "House                                           0.039758\n",
      "Nature                                          0.000000\n",
      "Property_type_others                            0.000281\n",
      "Vacation                                        0.000195\n",
      "Wild                                            0.000000\n",
      "Longtermstaysallowed                            0.001631\n",
      "Family/kidfriendly                              0.004431\n",
      "Airconditioning                                 0.004421\n",
      "Wifi                                            0.001563\n",
      "bathrooms                                       0.054172\n",
      "bedrooms                                        0.258043\n",
      "instant_bookable                                0.002000\n",
      "distance_to_downtown                            0.040223\n",
      "bus                                             0.002934\n",
      "SQRTextra_people                                0.024780\n",
      "SQRTdistance_to_downtown                        0.042139\n",
      "Freeparkingonpremises_*_distance_to_downtown    0.032488\n",
      "Apartment+bathrooms                             0.031641\n",
      "Apartment+bedrooms                              0.200453\n",
      "bathrooms**Shampoo                              0.061196\n",
      "dtype: float64\n"
     ]
    }
   ],
   "source": [
    "from sklearn.ensemble import RandomForestRegressor\n",
    "X_new7 = X_afterfeatureeng.copy()\n",
    "cols = ['no_alcohol','length_name', 'length_host','minimum_nights_avg_ntm','guests_included','extra_people','host_total_listings_count','Freeparkingonpremises','Heating', 'Hotwater', 'Shampoo','Coffeemaker', 'Microwave','super_strict_30', 'strict_14_with_grace_period',\n",
    "       'moderate', 'flexible',  'num_airbnb_nearby', 'avgpropertyprice','response_none', 'withinanhour', 'withinafewhours', 'withinaday',\n",
    "       'afewdaysormore','Agreeableness', 'Analytical', 'Anger',\n",
    "       'Confident', 'Conscientiousness', 'Disgust', 'Emotional Range',\n",
    "       'Extraversion', 'Joy', 'Openness', 'Sadness', 'Tentative','price','Apartment', 'House', 'Nature', 'Property_type_others', 'Vacation','Wild', 'Longtermstaysallowed','Family/kidfriendly', 'Airconditioning', 'Wifi','bathrooms', 'bedrooms','instant_bookable','distance_to_downtown','bus']\n",
    "X_new7 = X_new7[cols]\n",
    "y_price_new = X_afterfeatureeng['price'].copy()\n",
    "X_new7.price = y_price_new\n",
    "X_new7 = new_feature_combos1(X_new7)\n",
    "\n",
    "#split train and test\n",
    "from sklearn.model_selection import train_test_split\n",
    "\n",
    "X_train, X_test, y_train, y_test = train_test_split(X_new7.drop('price',1), X_new7['price'], test_size=0.30, random_state=5)\n",
    "\n",
    "\n",
    "regr = RandomForestRegressor(max_depth= 8, random_state=0, n_estimators=300,min_samples_leaf=8, max_features=23)\n",
    "regr.fit(X_train, y_train)\n",
    "\n",
    "# calculate the score\n",
    "train_score = regr.score(X_train, y_train)\n",
    "test_score = regr.score(X_test, y_test)\n",
    "print('The train score is {} and the test score is {}'.format(train_score, test_score))\n",
    "\n",
    "# calculate betas\n",
    "betas = pd.Series(regr.feature_importances_, index=X_train.columns)\n",
    "# betas = betas.append(pd.Series({\"Intercept\": regr.intercept_}))\n",
    "print(betas)\n"
   ]
  },
  {
   "cell_type": "code",
   "execution_count": null,
   "metadata": {
    "colab": {
     "base_uri": "https://localhost:8080/",
     "height": 34
    },
    "id": "W-GWofSwxFTr",
    "outputId": "e57f1d1a-9fad-4655-9fd5-5dd348938f36"
   },
   "outputs": [
    {
     "name": "stdout",
     "output_type": "stream",
     "text": [
      "The train score is 0.6549351905689322 and the test score is 0.537848548873871\n"
     ]
    }
   ],
   "source": [
    "#model price < 300 seperatly \n",
    "train = pd.concat([X_train, y_train], axis=1)\n",
    "test = pd.concat([X_test, y_test], axis=1)\n",
    "train_300orlower = train.drop(train[train['price'] < 15].index)\n",
    "train_300orlower = train_300orlower.drop(train_300orlower[train_300orlower['price'] > 225].index)\n",
    "test_300orlower = test.drop(test[test['price'] < 15].index)\n",
    "test_300orlower = test_300orlower.drop(test_300orlower[test_300orlower['price'] > 225].index)\n",
    "X_train_300orlower = train_300orlower.drop(columns=['price'])\n",
    "X_test_300orlower = test_300orlower.drop(columns=['price'])\n",
    "\n",
    "regr.fit(X_train_300orlower,train_300orlower['price'])\n",
    "train_score = regr.score(X_train_300orlower, train_300orlower['price'])\n",
    "test_score = regr.score(X_test_300orlower, test_300orlower['price'])\n",
    "\n",
    "\n",
    "\n",
    "print('The train score is {} and the test score is {}'.format(train_score, test_score))\n",
    "\n"
   ]
  },
  {
   "cell_type": "code",
   "execution_count": null,
   "metadata": {
    "colab": {
     "base_uri": "https://localhost:8080/",
     "height": 281
    },
    "id": "U9Na0WlEDfFN",
    "outputId": "69db65e0-2741-4183-cb48-b0003351035e"
   },
   "outputs": [
    {
     "data": {
      "image/png": "[encoded data removed]",
      "text/plain": [
       "<Figure size 432x288 with 1 Axes>"
      ]
     },
     "metadata": {
      "tags": []
     },
     "output_type": "display_data"
    }
   ],
   "source": [
    "bins= np.linspace(0, 300, 18)\n",
    "plt.hist([regr.predict(X_test_300orlower), test_300orlower['price']], bins, label=['predicted', 'actual'])\n",
    "plt.legend(loc='upper right')\n",
    "plt.title(\"Random Forest Regression Prediction vs. Actual Price\")\n",
    "plt.show()\n"
   ]
  },
  {
   "cell_type": "code",
   "execution_count": null,
   "metadata": {
    "colab": {
     "base_uri": "https://localhost:8080/",
     "height": 289
    },
    "id": "CPq1WpoQIysJ",
    "outputId": "5d60f6d7-7eb9-4627-80f0-505b16905604"
   },
   "outputs": [
    {
     "data": {
      "text/plain": [
       "Index(['no_alcohol', 'length_name', 'length_host', 'minimum_nights_avg_ntm',\n",
       "       'guests_included', 'host_total_listings_count', 'Freeparkingonpremises',\n",
       "       'Heating', 'Hotwater', 'Shampoo', 'Coffeemaker', 'Microwave',\n",
       "       'super_strict_30', 'strict_14_with_grace_period', 'moderate',\n",
       "       'flexible', 'num_airbnb_nearby', 'avgpropertyprice', 'response_none',\n",
       "       'withinanhour', 'withinafewhours', 'withinaday', 'afewdaysormore',\n",
       "       'Agreeableness', 'Analytical', 'Anger', 'Confident',\n",
       "       'Conscientiousness', 'Disgust', 'Emotional Range', 'Extraversion',\n",
       "       'Joy', 'Openness', 'Sadness', 'Tentative', 'price', 'Apartment',\n",
       "       'House', 'Nature', 'Property_type_others', 'Vacation', 'Wild',\n",
       "       'Longtermstaysallowed', 'Family/kidfriendly', 'Airconditioning', 'Wifi',\n",
       "       'bathrooms', 'bedrooms', 'instant_bookable', 'distance_to_downtown',\n",
       "       'bus', 'SQRTextra_people', 'SQRTdistance_to_downtown',\n",
       "       'Freeparkingonpremises_*_distance_to_downtown', 'Apartment+bathrooms',\n",
       "       'Apartment+bedrooms', 'bathrooms**Shampoo'],\n",
       "      dtype='object')"
      ]
     },
     "execution_count": 16,
     "metadata": {
      "tags": []
     },
     "output_type": "execute_result"
    }
   ],
   "source": [
    "X_new7.columns"
   ]
  },
  {
   "cell_type": "markdown",
   "metadata": {},
   "source": [
    "## Final XGBoost Model\n",
    "\n",
    "Training r2: 0.678590212825863\n",
    "Validation r2: 0.5508720230765136"
   ]
  },
  {
   "cell_type": "code",
   "execution_count": null,
   "metadata": {
    "colab": {
     "base_uri": "https://localhost:8080/",
     "height": 139
    },
    "id": "aKNC18I5BIsi",
    "outputId": "286de1a7-0132-4387-f8c9-1a8578f63440"
   },
   "outputs": [
    {
     "name": "stderr",
     "output_type": "stream",
     "text": [
      "/usr/local/lib/python3.6/dist-packages/xgboost/core.py:587: FutureWarning: Series.base is deprecated and will be removed in a future version\n",
      "  if getattr(data, 'base', None) is not None and \\\n"
     ]
    },
    {
     "name": "stdout",
     "output_type": "stream",
     "text": [
      "[19:28:52] WARNING: /workspace/src/objective/regression_obj.cu:152: reg:linear is now deprecated in favor of reg:squarederror.\n",
      "\n",
      "Training r2: 0.678590212825863\n",
      "Validation r2: 0.5508720230765136\n"
     ]
    }
   ],
   "source": [
    "import xgboost as xgb\n",
    "\n",
    "X_new7 = X_afterfeatureeng.copy()\n",
    "cols = ['no_alcohol','length_name', 'length_host','minimum_nights_avg_ntm','guests_included','extra_people','host_total_listings_count','Freeparkingonpremises','Heating', 'Hotwater', 'Shampoo','Coffeemaker', 'Microwave','super_strict_30', 'strict_14_with_grace_period',\n",
    "       'moderate', 'flexible',  'num_airbnb_nearby', 'avgpropertyprice','response_none', 'withinanhour', 'withinafewhours', 'withinaday',\n",
    "       'afewdaysormore','Agreeableness', 'Analytical', 'Anger',\n",
    "       'Confident', 'Conscientiousness', 'Disgust', 'Emotional Range',\n",
    "       'Extraversion', 'Joy', 'Openness', 'Sadness', 'Tentative','price','Apartment', 'House', 'Nature', 'Property_type_others', 'Vacation','Wild', 'Longtermstaysallowed','Family/kidfriendly', 'Airconditioning', 'Wifi','bathrooms', 'bedrooms','instant_bookable','distance_to_downtown','bus']\n",
    "X_new7 = X_new7[cols]\n",
    "y_price_new = X_afterfeatureeng['price'].copy()\n",
    "X_new7.price = np.sqrt(y_price_new)\n",
    "X_new7 = new_feature_combos1(X_new7)\n",
    "\n",
    "#split train and test\n",
    "from sklearn.model_selection import train_test_split\n",
    "\n",
    "X_train, X_test, y_train, y_test = train_test_split(X_new7.drop('price',1), X_new7['price'], test_size=0.30, random_state=5)\n",
    "\n",
    "xgb_reg = xgb.XGBRegressor()\n",
    "xgb_reg.fit(X_train, y_train)\n",
    "training_preds_xgb_reg = xgb_reg.predict(X_train)\n",
    "val_preds_xgb_reg = xgb_reg.predict(X_test)\n",
    " \n",
    "# Printing the results\n",
    "print(\"\\nTraining r2:\", (xgb_reg.score(X_train, y_train)))\n",
    "print(\"Validation r2:\", (xgb_reg.score(X_test, y_test)))\n"
   ]
  },
  {
   "cell_type": "code",
   "execution_count": null,
   "metadata": {
    "id": "hXt07kzQH2kd"
   },
   "outputs": [],
   "source": [
    "\n",
    "train = pd.concat([X_train, y_train], axis=1)\n",
    "test = pd.concat([X_test, y_test], axis=1)\n",
    "train_300orlower = train.drop(train[train['price'] < 4].index)\n",
    "train_300orlower = train_300orlower.drop(train_300orlower[train_300orlower['price'] > 18.5].index)\n",
    "test_300orlower = test.drop(test[test['price'] < 4].index)\n",
    "test_300orlower = test_300orlower.drop(test_300orlower[test_300orlower['price'] > 18.5].index)\n",
    "X_train_300orlower = train_300orlower.drop(columns=['price'])\n",
    "X_test_300orlower = test_300orlower.drop(columns=['price'])\n",
    "\n",
    "xgb_reg.fit(X_train_300orlower,train_300orlower['price'])\n",
    "train_score = xgb_reg.score(X_train_300orlower, train_300orlower['price'])\n",
    "test_score = xgb_reg.score(X_test_300orlower, test_300orlower['price'])\n",
    "\n",
    "\n",
    "\n",
    "print('The train score is {} and the test score is {}'.format(train_score, test_score))\n",
    "\n"
   ]
  },
  {
   "cell_type": "code",
   "execution_count": null,
   "metadata": {
    "id": "rZgJ6pUevXiM"
   },
   "outputs": [],
   "source": [
    "bins= np.linspace(0, 300, 18)\n",
    "plt.hist([xgb_reg.predict(X_train)**2, train_300orlower['price']**2],bins = 18,  label=['predicted', 'actual'])\n",
    "plt.legend(loc='upper right')\n",
    "plt.title(\"XGB_Regression prediction vs actual price (16~342)\")\n",
    "plt.show()"
   ]
  },
  {
   "cell_type": "code",
   "execution_count": null,
   "metadata": {
    "id": "qcdEn_qVVGL-"
   },
   "outputs": [],
   "source": [
    "\n",
    "train = pd.concat([X_train, y_train], axis=1)\n",
    "test = pd.concat([X_test, y_test], axis=1)\n",
    "train_300orlower = train.drop(train[train['price'] < 0].index)\n",
    "train_300orlower = train_300orlower.drop(train_300orlower[train_300orlower['price'] >10].index)\n",
    "test_300orlower = test.drop(test[test['price'] < 0].index)\n",
    "test_300orlower = test_300orlower.drop(test_300orlower[test_300orlower['price'] > 10].index)\n",
    "X_train_300orlower = train_300orlower.drop(columns=['price'])\n",
    "X_test_300orlower = test_300orlower.drop(columns=['price'])\n",
    "\n",
    "xgb_reg.fit(X_train_300orlower,train_300orlower['price'])\n",
    "train_score = xgb_reg.score(X_train_300orlower, train_300orlower['price'])\n",
    "test_score = xgb_reg.score(X_test_300orlower, test_300orlower['price'])\n",
    "\n",
    "\n",
    "\n",
    "print('The train score is {} and the test score is {}'.format(train_score, test_score))\n"
   ]
  },
  {
   "cell_type": "code",
   "execution_count": null,
   "metadata": {
    "id": "eDIDf-LTVTMN"
   },
   "outputs": [],
   "source": [
    "# Producing a dataframe of feature importances\n",
    "ft_weights_xgb_reg = pd.DataFrame(xgb_reg.feature_importances_, columns=['weight'], index=X_train.columns)\n",
    "ft_weights_xgb_reg.sort_values('weight', inplace=True)\n",
    "\n",
    "# Plotting feature importances\n",
    "plt.figure(figsize=(8,20))\n",
    "plt.barh(ft_weights_xgb_reg.index, ft_weights_xgb_reg.weight, align='center') \n",
    "plt.title(\"Feature importances in the XGBoost model\", fontsize=14)\n",
    "plt.xlabel(\"Feature importance\")\n",
    "plt.margins(y=0.01)\n",
    "plt.show()\n"
   ]
  },
  {
   "cell_type": "code",
   "execution_count": null,
   "metadata": {
    "id": "ecb1mScKUX2A"
   },
   "outputs": [],
   "source": [
    "\n",
    "train = pd.concat([X_train, y_train], axis=1)\n",
    "test = pd.concat([X_test, y_test], axis=1)\n",
    "train_300orlower = train.drop(train[train['price'] < 10].index)\n",
    "train_300orlower = train_300orlower.drop(train_300orlower[train_300orlower['price'] > 15].index)\n",
    "test_300orlower = test.drop(test[test['price'] < 10].index)\n",
    "test_300orlower = test_300orlower.drop(test_300orlower[test_300orlower['price'] > 15].index)\n",
    "X_train_300orlower = train_300orlower.drop(columns=['price'])\n",
    "X_test_300orlower = test_300orlower.drop(columns=['price'])\n",
    "\n",
    "xgb_reg.fit(X_train_300orlower,train_300orlower['price'])\n",
    "train_score = xgb_reg.score(X_train_300orlower, train_300orlower['price'])\n",
    "test_score = xgb_reg.score(X_test_300orlower, test_300orlower['price'])\n",
    "\n",
    "\n",
    "\n",
    "print('The train score is {} and the test score is {}'.format(train_score, test_score))"
   ]
  },
  {
   "cell_type": "code",
   "execution_count": null,
   "metadata": {
    "id": "NNNwd1TcVXbU"
   },
   "outputs": [],
   "source": [
    "# Producing a dataframe of feature importances\n",
    "ft_weights_xgb_reg = pd.DataFrame(xgb_reg.feature_importances_, columns=['weight'], index=X_train.columns)\n",
    "ft_weights_xgb_reg.sort_values('weight', inplace=True)\n",
    "\n",
    "# Plotting feature importances\n",
    "plt.figure(figsize=(8,20))\n",
    "plt.barh(ft_weights_xgb_reg.index, ft_weights_xgb_reg.weight, align='center') \n",
    "plt.title(\"Feature importances in the XGBoost model\", fontsize=14)\n",
    "plt.xlabel(\"Feature importance\")\n",
    "plt.margins(y=0.01)\n",
    "plt.show()\n"
   ]
  },
  {
   "cell_type": "code",
   "execution_count": null,
   "metadata": {
    "id": "0S_x4gyvx-P4"
   },
   "outputs": [],
   "source": [
    "plt.hist(regr.predict(X_train), bins = 15)"
   ]
  },
  {
   "cell_type": "code",
   "execution_count": null,
   "metadata": {
    "id": "xhrsfFta_R1W"
   },
   "outputs": [],
   "source": [
    "train_300orlower['price']"
   ]
  },
  {
   "cell_type": "code",
   "execution_count": null,
   "metadata": {
    "id": "0InFVs_T-0Ip"
   },
   "outputs": [],
   "source": [
    "\n",
    "plt.hist([linreg.predict(X_train), train_300orlower['price']],bins = 15,  label=['predicted', 'actual'])\n",
    "plt.legend(loc='upper right')\n",
    "plt.title(\"Linear Regression predic\")\n",
    "plt.show()\n"
   ]
  },
  {
   "cell_type": "code",
   "execution_count": null,
   "metadata": {
    "id": "yjgupKji0mSO"
   },
   "outputs": [],
   "source": [
    "train_300orlower.price.hist()"
   ]
  }
 ],
 "metadata": {
  "colab": {
   "name": "FinalModel.ipynb",
   "provenance": []
  },
  "kernelspec": {
   "display_name": "Python 3",
   "language": "python",
   "name": "python3"
  },
  "language_info": {
   "codemirror_mode": {
    "name": "ipython",
    "version": 3
   },
   "file_extension": ".py",
   "mimetype": "text/x-python",
   "name": "python",
   "nbconvert_exporter": "python",
   "pygments_lexer": "ipython3",
   "version": "3.8.3"
  }
 },
 "nbformat": 4,
 "nbformat_minor": 1
}
